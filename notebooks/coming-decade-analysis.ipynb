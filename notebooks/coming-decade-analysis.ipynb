{
 "cells": [
  {
   "cell_type": "code",
   "execution_count": 1,
   "metadata": {
    "collapsed": false,
    "deletable": true,
    "editable": true
   },
   "outputs": [],
   "source": [
    "import pandas as pd\n",
    "import numpy as np\n",
    "import statsmodels.api as sm"
   ]
  },
  {
   "cell_type": "code",
   "execution_count": 2,
   "metadata": {
    "collapsed": true,
    "deletable": true,
    "editable": true
   },
   "outputs": [],
   "source": [
    "q5a = pd.read_csv('q5a.csv')\n",
    "q5b = pd.read_csv('q5b.csv')\n",
    "q5c = pd.read_csv('q5c.csv')"
   ]
  },
  {
   "cell_type": "code",
   "execution_count": 3,
   "metadata": {
    "collapsed": false,
    "deletable": true,
    "editable": true
   },
   "outputs": [],
   "source": [
    "q5a = np.asarray(q5a)\n",
    "q5b = np.asarray(q5b)\n",
    "q5c = np.asarray(q5c)"
   ]
  },
  {
   "cell_type": "code",
   "execution_count": 4,
   "metadata": {
    "collapsed": false,
    "deletable": true,
    "editable": true
   },
   "outputs": [],
   "source": [
    "y0 = q5a[:,1]\n",
    "y1 = q5b[:,1]\n",
    "y2 = q5c[:,1]"
   ]
  },
  {
   "cell_type": "code",
   "execution_count": 5,
   "metadata": {
    "collapsed": true,
    "deletable": true,
    "editable": true
   },
   "outputs": [],
   "source": [
    "X0 = q5a[:,2:]\n",
    "X1 = q5b[:,2:]\n",
    "X2 = q5c[:,2:]"
   ]
  },
  {
   "cell_type": "code",
   "execution_count": 6,
   "metadata": {
    "collapsed": false,
    "deletable": true,
    "editable": true
   },
   "outputs": [],
   "source": [
    "X0 = np.append(X0,np.ones([len(X0),1]),1)\n",
    "X1 = np.append(X1,np.ones([len(X1),1]),1)\n",
    "X2 = np.append(X2,np.ones([len(X2),1]),1)"
   ]
  },
  {
   "cell_type": "code",
   "execution_count": 7,
   "metadata": {
    "collapsed": false,
    "deletable": true,
    "editable": true
   },
   "outputs": [],
   "source": [
    "model0 = sm.OLS(y0, X0)\n",
    "model1 = sm.OLS(y1, X1)\n",
    "model2 = sm.OLS(y2, X2)\n",
    "fit0 = model0.fit()\n",
    "fit1 = model1.fit()\n",
    "fit2 = model2.fit()"
   ]
  },
  {
   "cell_type": "code",
   "execution_count": 8,
   "metadata": {
    "collapsed": false,
    "deletable": true,
    "editable": true
   },
   "outputs": [
    {
     "name": "stdout",
     "output_type": "stream",
     "text": [
      "                            OLS Regression Results                            \n",
      "==============================================================================\n",
      "Dep. Variable:                      y   R-squared:                       0.048\n",
      "Model:                            OLS   Adj. R-squared:                 -0.035\n",
      "Method:                 Least Squares   F-statistic:                    0.5766\n",
      "Date:                Fri, 28 Feb 2020   Prob (F-statistic):              0.845\n",
      "Time:                        17:52:31   Log-Likelihood:                -600.92\n",
      "No. Observations:                 139   AIC:                             1226.\n",
      "Df Residuals:                     127   BIC:                             1261.\n",
      "Df Model:                          11                                         \n",
      "Covariance Type:            nonrobust                                         \n",
      "==============================================================================\n",
      "                 coef    std err          t      P>|t|      [0.025      0.975]\n",
      "------------------------------------------------------------------------------\n",
      "x1             2.6407      7.232      0.365      0.716     -11.670      16.951\n",
      "x2             4.8913      7.422      0.659      0.511      -9.796      19.579\n",
      "x3             0.8344      7.187      0.116      0.908     -13.387      15.056\n",
      "x4            -3.9136      8.083     -0.484      0.629     -19.908      12.080\n",
      "x5            -0.0277      9.757     -0.003      0.998     -19.336      19.281\n",
      "x6             1.9989      9.918      0.202      0.841     -17.627      21.625\n",
      "x7             1.7090      6.008      0.284      0.777     -10.179      13.597\n",
      "x8             5.7272      6.673      0.858      0.392      -7.478      18.932\n",
      "x9            -2.4526      7.081     -0.346      0.730     -16.465      11.559\n",
      "x10            1.3201      4.002      0.330      0.742      -6.598       9.238\n",
      "x11            8.1233      6.871      1.182      0.239      -5.472      21.719\n",
      "const         23.1835      8.359      2.774      0.006       6.643      39.724\n",
      "==============================================================================\n",
      "Omnibus:                       11.879   Durbin-Watson:                   2.103\n",
      "Prob(Omnibus):                  0.003   Jarque-Bera (JB):               13.252\n",
      "Skew:                           0.753   Prob(JB):                      0.00133\n",
      "Kurtosis:                       2.867   Cond. No.                         14.3\n",
      "==============================================================================\n",
      "\n",
      "Warnings:\n",
      "[1] Standard Errors assume that the covariance matrix of the errors is correctly specified.\n"
     ]
    }
   ],
   "source": [
    "print(fit0.summary())"
   ]
  },
  {
   "cell_type": "code",
   "execution_count": 9,
   "metadata": {
    "collapsed": false,
    "deletable": true,
    "editable": true
   },
   "outputs": [
    {
     "name": "stdout",
     "output_type": "stream",
     "text": [
      "                            OLS Regression Results                            \n",
      "==============================================================================\n",
      "Dep. Variable:                      y   R-squared:                       0.057\n",
      "Model:                            OLS   Adj. R-squared:                 -0.024\n",
      "Method:                 Least Squares   F-statistic:                    0.7040\n",
      "Date:                Fri, 28 Feb 2020   Prob (F-statistic):              0.733\n",
      "Time:                        17:52:31   Log-Likelihood:                -624.61\n",
      "No. Observations:                 139   AIC:                             1273.\n",
      "Df Residuals:                     127   BIC:                             1308.\n",
      "Df Model:                          11                                         \n",
      "Covariance Type:            nonrobust                                         \n",
      "==============================================================================\n",
      "                 coef    std err          t      P>|t|      [0.025      0.975]\n",
      "------------------------------------------------------------------------------\n",
      "x1            -6.2737      8.576     -0.732      0.466     -23.244      10.696\n",
      "x2            -3.6149      8.802     -0.411      0.682     -21.032      13.802\n",
      "x3            -5.5241      8.522     -0.648      0.518     -22.388      11.340\n",
      "x4            -9.1251      9.585     -0.952      0.343     -28.091       9.841\n",
      "x5            -9.0685     11.571     -0.784      0.435     -31.965      13.828\n",
      "x6             6.9412     11.761      0.590      0.556     -16.332      30.215\n",
      "x7            -0.6244      7.124     -0.088      0.930     -14.722      13.473\n",
      "x8             2.2974      7.913      0.290      0.772     -13.362      17.956\n",
      "x9            -7.4370      8.397     -0.886      0.377     -24.053       9.179\n",
      "x10            4.4078      4.745      0.929      0.355      -4.982      13.798\n",
      "x11            2.1941      8.147      0.269      0.788     -13.928      18.316\n",
      "const         48.8151      9.912      4.925      0.000      29.201      68.429\n",
      "==============================================================================\n",
      "Omnibus:                        5.365   Durbin-Watson:                   2.070\n",
      "Prob(Omnibus):                  0.068   Jarque-Bera (JB):                4.842\n",
      "Skew:                           0.384   Prob(JB):                       0.0889\n",
      "Kurtosis:                       2.503   Cond. No.                         14.3\n",
      "==============================================================================\n",
      "\n",
      "Warnings:\n",
      "[1] Standard Errors assume that the covariance matrix of the errors is correctly specified.\n"
     ]
    }
   ],
   "source": [
    "print(fit1.summary())"
   ]
  },
  {
   "cell_type": "code",
   "execution_count": 10,
   "metadata": {
    "collapsed": false,
    "deletable": true,
    "editable": true
   },
   "outputs": [
    {
     "name": "stdout",
     "output_type": "stream",
     "text": [
      "                            OLS Regression Results                            \n",
      "==============================================================================\n",
      "Dep. Variable:                      y   R-squared:                       0.079\n",
      "Model:                            OLS   Adj. R-squared:                 -0.001\n",
      "Method:                 Least Squares   F-statistic:                    0.9934\n",
      "Date:                Fri, 28 Feb 2020   Prob (F-statistic):              0.456\n",
      "Time:                        17:52:31   Log-Likelihood:                -630.02\n",
      "No. Observations:                 139   AIC:                             1284.\n",
      "Df Residuals:                     127   BIC:                             1319.\n",
      "Df Model:                          11                                         \n",
      "Covariance Type:            nonrobust                                         \n",
      "==============================================================================\n",
      "                 coef    std err          t      P>|t|      [0.025      0.975]\n",
      "------------------------------------------------------------------------------\n",
      "x1            -5.8970      8.916     -0.661      0.510     -23.541      11.747\n",
      "x2            -3.2306      9.151     -0.353      0.725     -21.339      14.878\n",
      "x3            -6.6958      8.861     -0.756      0.451     -24.230      10.838\n",
      "x4            -5.8675      9.965     -0.589      0.557     -25.587      13.852\n",
      "x5            -5.1489     12.030     -0.428      0.669     -28.954      18.656\n",
      "x6             9.9016     12.228      0.810      0.420     -14.296      34.099\n",
      "x7            -0.5926      7.407     -0.080      0.936     -15.250      14.064\n",
      "x8             0.8267      8.227      0.100      0.920     -15.454      17.107\n",
      "x9            -5.2650      8.730     -0.603      0.548     -22.541      12.011\n",
      "x10            9.6461      4.934      1.955      0.053      -0.117      19.409\n",
      "x11           -2.8173      8.471     -0.333      0.740     -19.579      13.945\n",
      "const         60.5122     10.305      5.872      0.000      40.120      80.905\n",
      "==============================================================================\n",
      "Omnibus:                        4.605   Durbin-Watson:                   2.006\n",
      "Prob(Omnibus):                  0.100   Jarque-Bera (JB):                2.984\n",
      "Skew:                          -0.176   Prob(JB):                        0.225\n",
      "Kurtosis:                       2.374   Cond. No.                         14.3\n",
      "==============================================================================\n",
      "\n",
      "Warnings:\n",
      "[1] Standard Errors assume that the covariance matrix of the errors is correctly specified.\n"
     ]
    }
   ],
   "source": [
    "print(fit2.summary())"
   ]
  },
  {
   "cell_type": "code",
   "execution_count": null,
   "metadata": {
    "collapsed": true,
    "deletable": true,
    "editable": true
   },
   "outputs": [],
   "source": []
  },
  {
   "cell_type": "code",
   "execution_count": null,
   "metadata": {
    "collapsed": true,
    "deletable": true,
    "editable": true
   },
   "outputs": [],
   "source": []
  },
  {
   "cell_type": "code",
   "execution_count": null,
   "metadata": {
    "collapsed": true,
    "deletable": true,
    "editable": true
   },
   "outputs": [],
   "source": []
  }
 ],
 "metadata": {
  "kernelspec": {
   "display_name": "Python 3",
   "language": "python",
   "name": "python3"
  },
  "language_info": {
   "codemirror_mode": {
    "name": "ipython",
    "version": 3
   },
   "file_extension": ".py",
   "mimetype": "text/x-python",
   "name": "python",
   "nbconvert_exporter": "python",
   "pygments_lexer": "ipython3",
   "version": "3.6.0"
  }
 },
 "nbformat": 4,
 "nbformat_minor": 2
}

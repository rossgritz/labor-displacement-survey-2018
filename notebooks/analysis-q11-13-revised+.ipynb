{
 "cells": [
  {
   "cell_type": "code",
   "execution_count": 1,
   "metadata": {
    "collapsed": true,
    "deletable": true,
    "editable": true
   },
   "outputs": [],
   "source": [
    "import pandas as pd\n",
    "import numpy as np"
   ]
  },
  {
   "cell_type": "code",
   "execution_count": 2,
   "metadata": {
    "collapsed": true,
    "deletable": true,
    "editable": true
   },
   "outputs": [],
   "source": [
    "import scipy.stats as stat\n",
    "import matplotlib.pyplot as plt"
   ]
  },
  {
   "cell_type": "code",
   "execution_count": 3,
   "metadata": {
    "collapsed": true,
    "deletable": true,
    "editable": true
   },
   "outputs": [],
   "source": [
    "import scipy.optimize as optimize\n",
    "import scipy.special as sp"
   ]
  },
  {
   "cell_type": "code",
   "execution_count": 4,
   "metadata": {
    "collapsed": true,
    "deletable": true,
    "editable": true
   },
   "outputs": [],
   "source": [
    "df = pd.read_csv('../Data_All_180906/CSV/Forecasting AI Progress v1.0.csv')"
   ]
  },
  {
   "cell_type": "code",
   "execution_count": 5,
   "metadata": {
    "collapsed": false,
    "deletable": true,
    "editable": true
   },
   "outputs": [],
   "source": [
    "df = df.iloc[:,9:]"
   ]
  },
  {
   "cell_type": "code",
   "execution_count": 6,
   "metadata": {
    "collapsed": false,
    "deletable": true,
    "editable": true
   },
   "outputs": [],
   "source": [
    "df.columns = ['name','surname','employer','job','Q1',\n",
    "             'Q2','Q3','Q4','Q5a','Q5b','Q5c','Cq5','Q6a','Q6b',\n",
    "             'Q6c','Cq6','Q7a','Q7b','Q7c','Q8a','Q8b','Q8c',\n",
    "             'Cq7-8','Q9a','Q9b','Q9c','Q10a','Q10b','Q10c',\n",
    "             'Cq9-10','Q11','Q12','Q13','Cq11-13']"
   ]
  },
  {
   "cell_type": "code",
   "execution_count": 7,
   "metadata": {
    "collapsed": false,
    "deletable": true,
    "editable": true
   },
   "outputs": [],
   "source": [
    "df = df.dropna(subset=['name','surname','employer','job'])"
   ]
  },
  {
   "cell_type": "code",
   "execution_count": 8,
   "metadata": {
    "collapsed": false,
    "deletable": true,
    "editable": true
   },
   "outputs": [
    {
     "name": "stdout",
     "output_type": "stream",
     "text": [
      "(201, 34)\n"
     ]
    }
   ],
   "source": [
    "print(df.shape)"
   ]
  },
  {
   "cell_type": "code",
   "execution_count": 9,
   "metadata": {
    "collapsed": false,
    "deletable": true,
    "editable": true
   },
   "outputs": [],
   "source": [
    "q1 = df.Q1\n",
    "q2 = df.Q2\n",
    "q3 = df.Q3\n",
    "q4 = df.Q4\n",
    "q5 = df[['Q5a','Q5b','Q5c']]\n",
    "q6 = df[['Q6a','Q6b','Q6c']]\n",
    "q7 = df[['Q7a','Q7b','Q7c']]\n",
    "q8 = df[['Q8a','Q8b','Q8c']]\n",
    "q9 = df[['Q9a','Q9b','Q9c']]\n",
    "q10 = df[['Q10a','Q10b','Q10c']]\n",
    "q11 = df.Q11\n",
    "q12 = df.Q12\n",
    "q13 = df.Q13"
   ]
  },
  {
   "cell_type": "code",
   "execution_count": 10,
   "metadata": {
    "collapsed": false,
    "deletable": true,
    "editable": true
   },
   "outputs": [],
   "source": [
    "q1 = q1.dropna()\n",
    "q2 = q2.dropna()\n",
    "q3 = q3.dropna()\n",
    "q4 = q4.dropna()\n",
    "q5 = q5.dropna()\n",
    "q6 = q6.dropna()\n",
    "q7 = q7.dropna()\n",
    "q8 = q8.dropna()\n",
    "q9 = q9.dropna()\n",
    "q10 = q10.dropna()\n",
    "q11 = q11.dropna()\n",
    "q12 = q12.dropna()\n",
    "q13 = q13.dropna()"
   ]
  },
  {
   "cell_type": "code",
   "execution_count": 11,
   "metadata": {
    "collapsed": false,
    "deletable": true,
    "editable": true
   },
   "outputs": [
    {
     "data": {
      "text/plain": [
       "(165,)"
      ]
     },
     "execution_count": 11,
     "metadata": {},
     "output_type": "execute_result"
    }
   ],
   "source": [
    "q11.shape"
   ]
  },
  {
   "cell_type": "code",
   "execution_count": null,
   "metadata": {
    "collapsed": true,
    "deletable": true,
    "editable": true
   },
   "outputs": [],
   "source": []
  },
  {
   "cell_type": "code",
   "execution_count": null,
   "metadata": {
    "collapsed": true,
    "deletable": true,
    "editable": true
   },
   "outputs": [],
   "source": []
  },
  {
   "cell_type": "code",
   "execution_count": null,
   "metadata": {
    "collapsed": true,
    "deletable": true,
    "editable": true
   },
   "outputs": [],
   "source": []
  },
  {
   "cell_type": "markdown",
   "metadata": {
    "deletable": true,
    "editable": true
   },
   "source": [
    "# Questions 11 & 12"
   ]
  },
  {
   "cell_type": "code",
   "execution_count": 12,
   "metadata": {
    "collapsed": false,
    "deletable": true,
    "editable": true
   },
   "outputs": [
    {
     "name": "stdout",
     "output_type": "stream",
     "text": [
      "(200, 2)\n",
      "(164, 2)\n",
      "[[98 89]\n",
      " [76 61]\n",
      " [96 95]\n",
      " [95 75]\n",
      " [35 15]]\n"
     ]
    }
   ],
   "source": [
    "q11_ = df[['Q11',\"Q12\"]]\n",
    "q11_ = q11_.iloc[1:]\n",
    "print(q11_.shape)\n",
    "q11_ = q11_.dropna()\n",
    "print(q11_.shape)\n",
    "q11_.Q11 = pd.to_numeric(q11_.Q11)\n",
    "q11_.Q12 = pd.to_numeric(q11_.Q12)\n",
    "q11_ = q11_[q11_.Q11 >= 0.000001]\n",
    "q11_ = q11_[q11_.Q11 <= 100.]\n",
    "q11_ = q11_[q11_.Q12 >= 0.000001]\n",
    "q11_ = q11_[q11_.Q12 <= 100.]\n",
    "q11_ = q11_[q11_.Q11-q11_.Q12 >= 0.000001]\n",
    "ydata = np.array([5.,10.])#,0.])\n",
    "xdata = np.asarray(q11_)\n",
    "print(xdata[:5])\n",
    "x,y = xdata.shape\n",
    "xdata_ = .99999999*np.ones((x,y+1))\n",
    "for i in range(xdata.shape[0]):\n",
    "    for j in range(xdata.shape[1]):\n",
    "        xdat = xdata[i,j]\n",
    "        xdat = float(xdat)*0.01\n",
    "        xdata_[i,j+1] = xdat\n",
    "'''\n",
    "xdata_ = np.zeros((x,y))\n",
    "for i in range(xdata.shape[0]):\n",
    "    for j in range(xdata.shape[1]):\n",
    "        xdat = xdata[i,j]\n",
    "        xdat = float(xdat)*0.01\n",
    "        xdata_[i,j] = xdat'''\n",
    "xdata = xdata_"
   ]
  },
  {
   "cell_type": "code",
   "execution_count": 13,
   "metadata": {
    "collapsed": true,
    "deletable": true,
    "editable": true
   },
   "outputs": [],
   "source": [
    "ydata = np.asarray([0.,5.,10.])"
   ]
  },
  {
   "cell_type": "code",
   "execution_count": null,
   "metadata": {
    "collapsed": true,
    "deletable": true,
    "editable": true
   },
   "outputs": [],
   "source": []
  },
  {
   "cell_type": "code",
   "execution_count": null,
   "metadata": {
    "collapsed": true,
    "deletable": true,
    "editable": true
   },
   "outputs": [],
   "source": []
  },
  {
   "cell_type": "code",
   "execution_count": null,
   "metadata": {
    "collapsed": true,
    "deletable": true,
    "editable": true
   },
   "outputs": [],
   "source": []
  },
  {
   "cell_type": "markdown",
   "metadata": {
    "collapsed": true,
    "deletable": true,
    "editable": true
   },
   "source": [
    "### Fitting to Gamma CDF "
   ]
  },
  {
   "cell_type": "code",
   "execution_count": 14,
   "metadata": {
    "collapsed": true,
    "deletable": true,
    "editable": true
   },
   "outputs": [],
   "source": [
    "def ff(params,xdata,ydata):\n",
    "    return xdata-params[1]*sp.gammaincinv(float(params[0]),ydata.astype(float))"
   ]
  },
  {
   "cell_type": "code",
   "execution_count": 15,
   "metadata": {
    "collapsed": true,
    "deletable": true,
    "editable": true
   },
   "outputs": [],
   "source": [
    "x0f = np.array([9.,1.])"
   ]
  },
  {
   "cell_type": "code",
   "execution_count": 16,
   "metadata": {
    "collapsed": false,
    "deletable": true,
    "editable": true
   },
   "outputs": [
    {
     "name": "stdout",
     "output_type": "stream",
     "text": [
      "[ 0.  5. 10.]\n",
      "[0.99999999 0.98       0.89      ]\n"
     ]
    }
   ],
   "source": [
    "print(ydata)\n",
    "print(xdata[0])"
   ]
  },
  {
   "cell_type": "code",
   "execution_count": 17,
   "metadata": {
    "collapsed": false,
    "deletable": true,
    "editable": true
   },
   "outputs": [],
   "source": [
    "xdata = 1-xdata"
   ]
  },
  {
   "cell_type": "code",
   "execution_count": 18,
   "metadata": {
    "collapsed": false,
    "deletable": true,
    "editable": true
   },
   "outputs": [
    {
     "name": "stdout",
     "output_type": "stream",
     "text": [
      "20\n",
      "40\n",
      "60\n",
      "80\n",
      "100\n",
      "117\n"
     ]
    }
   ],
   "source": [
    "paramsf = optimize.least_squares(ff, x0f, args=(ydata,xdata[0]),max_nfev=10000,\n",
    "                                tr_solver='exact')\n",
    "dataxx = stat.gamma.rvs(paramsf.x[0], 0., scale=paramsf.x[1], size=100)\n",
    "datayy = stat.gamma.cdf(dataxx,paramsf.x[0], 0., scale=paramsf.x[1])\n",
    "ct=1\n",
    "for i in range(1,q11_.shape[0]):\n",
    "    try:\n",
    "        paramsf = optimize.least_squares(ff, x0f, args=(ydata, xdata[i]),max_nfev=10000,\n",
    "                                tr_solver='exact')\n",
    "    except: \n",
    "        print(xdata[i])\n",
    "        continue\n",
    "    dataxx = np.concatenate((dataxx,stat.gamma.rvs(paramsf.x[0], 0., scale=paramsf.x[1], size=100)),axis=0)\n",
    "    datayy = np.concatenate((datayy,stat.gamma.cdf(dataxx[ct*100:],paramsf.x[0], 0., scale=paramsf.x[1])),axis=0)\n",
    "    cdf = stat.gamma.cdf(dataxx[ct*100:],paramsf.x[0], 0., scale=paramsf.x[1])\n",
    "    xdat = dataxx[ct*100:]\n",
    "    ct += 1\n",
    "    if ct%20 == 0:\n",
    "        print(ct)\n",
    "print(ct)"
   ]
  },
  {
   "cell_type": "code",
   "execution_count": 19,
   "metadata": {
    "collapsed": false,
    "deletable": true,
    "editable": true
   },
   "outputs": [],
   "source": [
    "datayy -= 0.000000000001"
   ]
  },
  {
   "cell_type": "code",
   "execution_count": 20,
   "metadata": {
    "collapsed": false,
    "deletable": true,
    "editable": true
   },
   "outputs": [],
   "source": [
    "for i in range(datayy.shape[0]):\n",
    "    if datayy[i] < 0:\n",
    "        datayy[i] = 0.0000000001\n",
    "        dataxx[i] = 0.0000000001"
   ]
  },
  {
   "cell_type": "code",
   "execution_count": 21,
   "metadata": {
    "collapsed": true,
    "deletable": true,
    "editable": true
   },
   "outputs": [],
   "source": [
    "for i in range(dataxx.shape[0]):\n",
    "    if dataxx[i] > 100.:\n",
    "        dataxx[i] = 100."
   ]
  },
  {
   "cell_type": "code",
   "execution_count": 22,
   "metadata": {
    "collapsed": false,
    "deletable": true,
    "editable": true
   },
   "outputs": [],
   "source": [
    "paramsxx = optimize.least_squares(ff, x0f, args=(dataxx[:], datayy[:]),max_nfev=10000,\n",
    "                                tr_solver='exact')"
   ]
  },
  {
   "cell_type": "code",
   "execution_count": 23,
   "metadata": {
    "collapsed": false,
    "deletable": true,
    "editable": true
   },
   "outputs": [
    {
     "data": {
      "image/png": "[encoded data removed]",
      "text/plain": [
       "<Figure size 432x288 with 1 Axes>"
      ]
     },
     "metadata": {},
     "output_type": "display_data"
    }
   ],
   "source": [
    "dataxx.sort()\n",
    "plt.plot(dataxx,stat.gamma.sf(dataxx, paramsxx.x[0],0.,paramsxx.x[1]),'steelblue',lw=5,alpha=0.6)\n",
    "plt.xlim(0,40)\n",
    "plt.grid()\n",
    "plt.xlabel('Years')\n",
    "plt.ylabel('Survival Function (i.e. inverse CDF)')\n",
    "plt.title('Survival of Correlation Between Compute & AI Milestones')\n",
    "plt.savefig('compute-trend-survival.png')\n",
    "plt.show()"
   ]
  },
  {
   "cell_type": "code",
   "execution_count": 24,
   "metadata": {
    "collapsed": false,
    "deletable": true,
    "editable": true
   },
   "outputs": [
    {
     "name": "stdout",
     "output_type": "stream",
     "text": [
      "0.99999999\n",
      "0.99999999\n"
     ]
    }
   ],
   "source": [
    "print(1-xdata[:,0].mean())\n",
    "print(1-np.median(xdata[:,0]))"
   ]
  },
  {
   "cell_type": "code",
   "execution_count": 25,
   "metadata": {
    "collapsed": false,
    "deletable": true,
    "editable": true
   },
   "outputs": [
    {
     "name": "stdout",
     "output_type": "stream",
     "text": [
      "0.6494017094017095\n",
      "0.7000000000000001\n"
     ]
    }
   ],
   "source": [
    "print(1-xdata[:,1].mean())\n",
    "print(1-np.median(xdata[:,1]))"
   ]
  },
  {
   "cell_type": "code",
   "execution_count": 26,
   "metadata": {
    "collapsed": false,
    "deletable": true,
    "editable": true
   },
   "outputs": [
    {
     "name": "stdout",
     "output_type": "stream",
     "text": [
      "0.46589743589743593\n",
      "0.5\n"
     ]
    }
   ],
   "source": [
    "print(1-xdata[:,2].mean())\n",
    "print(1-np.median(xdata[:,2]))"
   ]
  },
  {
   "cell_type": "code",
   "execution_count": null,
   "metadata": {
    "collapsed": true,
    "deletable": true,
    "editable": true
   },
   "outputs": [],
   "source": []
  },
  {
   "cell_type": "code",
   "execution_count": null,
   "metadata": {
    "collapsed": true,
    "deletable": true,
    "editable": true
   },
   "outputs": [],
   "source": []
  },
  {
   "cell_type": "code",
   "execution_count": null,
   "metadata": {
    "collapsed": true,
    "deletable": true,
    "editable": true
   },
   "outputs": [],
   "source": []
  },
  {
   "cell_type": "markdown",
   "metadata": {
    "collapsed": true,
    "deletable": true,
    "editable": true
   },
   "source": [
    "# Question 13"
   ]
  },
  {
   "cell_type": "code",
   "execution_count": 27,
   "metadata": {
    "collapsed": true,
    "deletable": true,
    "editable": true
   },
   "outputs": [],
   "source": [
    "q13 = df['Q13']"
   ]
  },
  {
   "cell_type": "code",
   "execution_count": 28,
   "metadata": {
    "collapsed": false,
    "deletable": true,
    "editable": true
   },
   "outputs": [],
   "source": [
    "q13.dropna()\n",
    "counts = q13.value_counts()"
   ]
  },
  {
   "cell_type": "code",
   "execution_count": 29,
   "metadata": {
    "collapsed": false,
    "deletable": true,
    "editable": true
   },
   "outputs": [
    {
     "name": "stdout",
     "output_type": "stream",
     "text": [
      "50%                   35\n",
      "100%                  34\n",
      "400% or greater       31\n",
      "25%                   23\n",
      "200%                  19\n",
      "It would slow down    12\n",
      "0%                    10\n",
      "Response               1\n",
      "Name: Q13, dtype: int64\n"
     ]
    }
   ],
   "source": [
    "print(counts)"
   ]
  },
  {
   "cell_type": "code",
   "execution_count": 30,
   "metadata": {
    "collapsed": false,
    "deletable": true,
    "editable": true
   },
   "outputs": [
    {
     "data": {
      "image/png": "[encoded data removed]",
      "text/plain": [
       "<Figure size 432x288 with 1 Axes>"
      ]
     },
     "metadata": {},
     "output_type": "display_data"
    }
   ],
   "source": [
    "fig, ax = plt.subplots()\n",
    "idx = ['','<0%','0%','25%','50%','100%','200%','>400%']\n",
    "idn = [0,1,2,3,4,5,6]\n",
    "counts2 = [counts[5],counts[6],counts[3],counts[0],counts[1],counts[4],counts[2]]\n",
    "plt.bar(idn,counts2[:7])\n",
    "ax.set_xticklabels(idx)\n",
    "plt.title('Response Totals for Impact of Unlimited Compute')\n",
    "plt.xlabel('% increase in research progress')\n",
    "plt.savefig('unlimited-compute.png')\n",
    "plt.show()"
   ]
  },
  {
   "cell_type": "code",
   "execution_count": null,
   "metadata": {
    "collapsed": true,
    "deletable": true,
    "editable": true
   },
   "outputs": [],
   "source": []
  },
  {
   "cell_type": "code",
   "execution_count": null,
   "metadata": {
    "collapsed": true
   },
   "outputs": [],
   "source": []
  },
  {
   "cell_type": "code",
   "execution_count": null,
   "metadata": {
    "collapsed": true
   },
   "outputs": [],
   "source": []
  },
  {
   "cell_type": "code",
   "execution_count": null,
   "metadata": {
    "collapsed": true
   },
   "outputs": [],
   "source": []
  },
  {
   "cell_type": "code",
   "execution_count": null,
   "metadata": {
    "collapsed": true
   },
   "outputs": [],
   "source": []
  },
  {
   "cell_type": "code",
   "execution_count": null,
   "metadata": {
    "collapsed": true
   },
   "outputs": [],
   "source": []
  }
 ],
 "metadata": {
  "kernelspec": {
   "display_name": "Python 3",
   "language": "python",
   "name": "python3"
  },
  "language_info": {
   "codemirror_mode": {
    "name": "ipython",
    "version": 3
   },
   "file_extension": ".py",
   "mimetype": "text/x-python",
   "name": "python",
   "nbconvert_exporter": "python",
   "pygments_lexer": "ipython3",
   "version": "3.6.0"
  }
 },
 "nbformat": 4,
 "nbformat_minor": 2
}

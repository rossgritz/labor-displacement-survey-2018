{
 "cells": [
  {
   "cell_type": "code",
   "execution_count": 1,
   "metadata": {
    "collapsed": true,
    "deletable": true,
    "editable": true
   },
   "outputs": [],
   "source": [
    "import pandas as pd\n",
    "import numpy as np"
   ]
  },
  {
   "cell_type": "code",
   "execution_count": 2,
   "metadata": {
    "collapsed": true,
    "deletable": true,
    "editable": true
   },
   "outputs": [],
   "source": [
    "import scipy.stats as stat\n",
    "import matplotlib.pyplot as plt"
   ]
  },
  {
   "cell_type": "code",
   "execution_count": 3,
   "metadata": {
    "collapsed": true,
    "deletable": true,
    "editable": true
   },
   "outputs": [],
   "source": [
    "import scipy.optimize as optimize\n",
    "import scipy.special as sp"
   ]
  },
  {
   "cell_type": "code",
   "execution_count": 4,
   "metadata": {
    "collapsed": true,
    "deletable": true,
    "editable": true
   },
   "outputs": [],
   "source": [
    "import random as rand\n",
    "import math"
   ]
  },
  {
   "cell_type": "code",
   "execution_count": 5,
   "metadata": {
    "collapsed": true,
    "deletable": true,
    "editable": true
   },
   "outputs": [],
   "source": [
    "from scipy.interpolate import interp1d\n",
    "import statsmodels.api as sm"
   ]
  },
  {
   "cell_type": "code",
   "execution_count": 6,
   "metadata": {
    "collapsed": false,
    "deletable": true,
    "editable": true
   },
   "outputs": [],
   "source": [
    "import skmisc.loess as loess\n",
    "import copy \n",
    "import copy as deepcopy"
   ]
  },
  {
   "cell_type": "code",
   "execution_count": 7,
   "metadata": {
    "collapsed": false,
    "deletable": true,
    "editable": true
   },
   "outputs": [],
   "source": [
    "df = pd.read_csv('../Data_All_180906/CSV/Forecasting AI Progress v1.0.csv')"
   ]
  },
  {
   "cell_type": "code",
   "execution_count": 8,
   "metadata": {
    "collapsed": false,
    "deletable": true,
    "editable": true
   },
   "outputs": [],
   "source": [
    "df = df.iloc[:,9:]"
   ]
  },
  {
   "cell_type": "code",
   "execution_count": 9,
   "metadata": {
    "collapsed": false,
    "deletable": true,
    "editable": true
   },
   "outputs": [],
   "source": [
    "df.columns = ['name','surname','employer','job','Q1',\n",
    "             'Q2','Q3','Q4','Q5a','Q5b','Q5c','Cq5','Q6a','Q6b',\n",
    "             'Q6c','Cq6','Q7a','Q7b','Q7c','Q8a','Q8b','Q8c',\n",
    "             'Cq7-8','Q9a','Q9b','Q9c','Q10a','Q10b','Q10c',\n",
    "             'Cq9-10','Q11','Q12','Q13','Cq11-13']"
   ]
  },
  {
   "cell_type": "code",
   "execution_count": 10,
   "metadata": {
    "collapsed": false,
    "deletable": true,
    "editable": true
   },
   "outputs": [
    {
     "name": "stdout",
     "output_type": "stream",
     "text": [
      "(230,)\n",
      "(230,)\n"
     ]
    }
   ],
   "source": [
    "dfx = pd.read_csv('../data_b.csv',keep_default_na=False)\n",
    "df4 = dfx.iloc[:,7:]\n",
    "df4.columns = ['role','demo','name','surname','employer','job','Q1',\\\n",
    "             'Q2','Q3','Q4','Q5a','Q5b','Q5c','Cq5','Q6a','Q6b',\n",
    "             'Q6c','Cq6','Q7a','Q7b','Q7c','Q8a','Q8b','Q8c',\n",
    "             'Cq7-8','Q9a','Q9b','Q9c','Q10a','Q10b','Q10c',\n",
    "             'Cq9-10','Q11','Q12','Q13','Cq11-13','expert']\n",
    "experts = df4.expert\n",
    "demo = df4.demo\n",
    "roles = df4.role\n",
    "demo = np.asarray(demo)\n",
    "roles = np.asarray(roles)\n",
    "print(demo.shape)\n",
    "print(roles.shape)\n",
    "role = np.zeros(demo.shape[0]+1)\n",
    "region = np.zeros(demo.shape[0]+1)\n",
    "gender = np.zeros(demo.shape[0]+1)\n",
    "experts = np.asarray(experts)\n",
    "expert = np.zeros(demo.shape[0]+1)\n",
    "for i in range(0,demo.shape[0]-1):\n",
    "    try:\n",
    "        vals = demo[i+1].split(',')\n",
    "        #print (vals)\n",
    "        if vals[0] == 'EU':\n",
    "            region[i+1] = 0\n",
    "        elif vals[0] == 'A':\n",
    "            region[i+1] = 1\n",
    "        elif vals[0] == 'NA':\n",
    "            region[i+1] = 2\n",
    "        elif vals[0] == 'O':\n",
    "            region[i+1] = 3\n",
    "        elif vals[0] == 'X':\n",
    "            region[i+1] = -1\n",
    "        elif vals[0] == 'SA':\n",
    "            region[i+1] = 3\n",
    "        elif vals[0] == 'AR':\n",
    "            region[i+1] = 3\n",
    "        else:\n",
    "            region[i+1] = -1\n",
    "            #print(vals[0])\n",
    "        try:\n",
    "            if vals[1] == 'f':\n",
    "                gender[i+1] = 0\n",
    "            else:\n",
    "                gender[i+1] = 1\n",
    "        except:\n",
    "            gender[i+1] = 1\n",
    "    except:\n",
    "        region[i+1] = -1\n",
    "        gender[i+1] = -1\n",
    "    if roles[i+1] == 'phd': #grad student\n",
    "        role[i+1] = 0\n",
    "    elif roles[i+1] == 'prof': #academic\n",
    "        role[i+1] = 1\n",
    "    elif roles[i+1] == 'r': #industry research\n",
    "        role[i+1] = 2\n",
    "    elif roles[i+1] == 'eng': #industry engineer\n",
    "        role[i+1] = 3\n",
    "    elif roles[i+1] == 'exec': #industry executive\n",
    "        role[i+1] = 4\n",
    "    elif roles[i+1] == 'f': #founder\n",
    "        role[i+1] = 5\n",
    "    else: role[i+1] = -1\n",
    "    if experts[i+1] == 'x' or experts[i+1] == 'na':\n",
    "        expert[i+1] = -1\n",
    "    else:\n",
    "        expert[i+1] = 1\n",
    "expert_df = pd.DataFrame(expert)\n",
    "df['expert'] = expert_df\n",
    "region_df = pd.DataFrame(region)\n",
    "gender_df = pd.DataFrame(gender)\n",
    "role_df = pd.DataFrame(role)\n",
    "df['region'] = region_df\n",
    "df['gender'] = gender_df\n",
    "df['role'] = role_df"
   ]
  },
  {
   "cell_type": "code",
   "execution_count": 11,
   "metadata": {
    "collapsed": false,
    "deletable": true,
    "editable": true
   },
   "outputs": [],
   "source": [
    "df = df.dropna(subset=['name','surname','employer','job'])"
   ]
  },
  {
   "cell_type": "code",
   "execution_count": 12,
   "metadata": {
    "collapsed": false,
    "deletable": true,
    "editable": true
   },
   "outputs": [
    {
     "data": {
      "text/plain": [
       "(201, 38)"
      ]
     },
     "execution_count": 12,
     "metadata": {},
     "output_type": "execute_result"
    }
   ],
   "source": [
    "df.shape"
   ]
  },
  {
   "cell_type": "markdown",
   "metadata": {
    "deletable": true,
    "editable": true
   },
   "source": [
    "### Naive calibration A "
   ]
  },
  {
   "cell_type": "code",
   "execution_count": 13,
   "metadata": {
    "collapsed": false,
    "deletable": true,
    "editable": true
   },
   "outputs": [
    {
     "name": "stderr",
     "output_type": "stream",
     "text": [
      "/usr/local/Cellar/python3/3.6.0/Frameworks/Python.framework/Versions/3.6/lib/python3.6/site-packages/pandas/core/generic.py:5208: SettingWithCopyWarning: \n",
      "A value is trying to be set on a copy of a slice from a DataFrame.\n",
      "Try using .loc[row_indexer,col_indexer] = value instead\n",
      "\n",
      "See the caveats in the documentation: http://pandas.pydata.org/pandas-docs/stable/user_guide/indexing.html#returning-a-view-versus-a-copy\n",
      "  self[name] = value\n",
      "/usr/local/Cellar/python3/3.6.0/Frameworks/Python.framework/Versions/3.6/lib/python3.6/site-packages/pandas/core/indexing.py:494: SettingWithCopyWarning: \n",
      "A value is trying to be set on a copy of a slice from a DataFrame.\n",
      "Try using .loc[row_indexer,col_indexer] = value instead\n",
      "\n",
      "See the caveats in the documentation: http://pandas.pydata.org/pandas-docs/stable/user_guide/indexing.html#returning-a-view-versus-a-copy\n",
      "  self.obj[item] = s\n"
     ]
    }
   ],
   "source": [
    "df['weight'] = 1.\n",
    "df2 = df.iloc[1:]\n",
    "df2.Q1 = pd.to_numeric(df2.Q1)\n",
    "mask = df2.Q1 == 0\n",
    "df2.loc[mask, 'weight'] = df2.weight - 0.25\n",
    "mask = df2.Q1 == 100\n",
    "df2.loc[mask, 'weight'] = df2.weight - 0.25\n",
    "df2.Q2 = pd.to_numeric(df2.Q2)\n",
    "mask = df2.Q2 == 0\n",
    "df2.loc[mask, 'weight'] = df2.weight - 0.25\n",
    "mask = df2.Q2 == 100\n",
    "df2.loc[mask, 'weight'] = df2.weight - 0.25\n",
    "df2.Q3 = pd.to_numeric(df2.Q3)\n",
    "mask = df2.Q3 == 0\n",
    "df2.loc[mask, 'weight'] = df2.weight - 0.25\n",
    "mask = df2.Q3 == 100\n",
    "df2.loc[mask, 'weight'] = df2.weight - 0.25\n",
    "df2.Q4 = pd.to_numeric(df2.Q4)\n",
    "mask = df2.Q4 == 0\n",
    "df2.loc[mask, 'weight'] = df2.weight - 0.25\n",
    "mask = df2.Q4 == 100\n",
    "df2.loc[mask, 'weight'] = df2.weight - 0.25"
   ]
  },
  {
   "cell_type": "markdown",
   "metadata": {
    "deletable": true,
    "editable": true
   },
   "source": [
    "### Naive calibration B "
   ]
  },
  {
   "cell_type": "code",
   "execution_count": 14,
   "metadata": {
    "collapsed": false,
    "deletable": true,
    "editable": true
   },
   "outputs": [
    {
     "name": "stderr",
     "output_type": "stream",
     "text": [
      "/usr/local/Cellar/python3/3.6.0/Frameworks/Python.framework/Versions/3.6/lib/python3.6/site-packages/pandas/core/generic.py:5208: SettingWithCopyWarning: \n",
      "A value is trying to be set on a copy of a slice from a DataFrame.\n",
      "Try using .loc[row_indexer,col_indexer] = value instead\n",
      "\n",
      "See the caveats in the documentation: http://pandas.pydata.org/pandas-docs/stable/user_guide/indexing.html#returning-a-view-versus-a-copy\n",
      "  self[name] = value\n",
      "/usr/local/Cellar/python3/3.6.0/Frameworks/Python.framework/Versions/3.6/lib/python3.6/site-packages/pandas/core/indexing.py:494: SettingWithCopyWarning: \n",
      "A value is trying to be set on a copy of a slice from a DataFrame.\n",
      "Try using .loc[row_indexer,col_indexer] = value instead\n",
      "\n",
      "See the caveats in the documentation: http://pandas.pydata.org/pandas-docs/stable/user_guide/indexing.html#returning-a-view-versus-a-copy\n",
      "  self.obj[item] = s\n"
     ]
    }
   ],
   "source": [
    "df3 = df.iloc[1:]\n",
    "df3.Q1 = pd.to_numeric(df3.Q1)\n",
    "mask = df3.Q1 == 0\n",
    "df3.loc[mask, 'weight'] = 0.\n",
    "mask = df3.Q1 == 100\n",
    "df3.loc[mask, 'weight'] = 0.\n",
    "df3.Q2 = pd.to_numeric(df3.Q2)\n",
    "mask = df3.Q2 == 0\n",
    "df3.loc[mask, 'weight'] = 0.\n",
    "mask = df3.Q2 == 100\n",
    "df3.loc[mask, 'weight'] = 0.\n",
    "df3.Q3 = pd.to_numeric(df3.Q3)\n",
    "mask = df3.Q3 == 0\n",
    "df3.loc[mask, 'weight'] = 0.\n",
    "mask = df3.Q3 == 100\n",
    "df3.loc[mask, 'weight'] = 0.\n",
    "df3.Q4 = pd.to_numeric(df3.Q4)\n",
    "mask = df3.Q4 == 0\n",
    "df3.loc[mask, 'weight'] = 0.\n",
    "mask = df3.Q4 == 100\n",
    "df3.loc[mask, 'weight'] = 0."
   ]
  },
  {
   "cell_type": "code",
   "execution_count": 15,
   "metadata": {
    "collapsed": false,
    "deletable": true,
    "editable": true
   },
   "outputs": [],
   "source": [
    "q1 = df.Q1\n",
    "q2 = df.Q2\n",
    "q3 = df.Q3\n",
    "q4 = df.Q4\n",
    "q5 = df[['Q5a','Q5b','Q5c']]\n",
    "q6 = df[['Q6a','Q6b','Q6c']]\n",
    "q7 = df[['Q7a','Q7b','Q7c']]\n",
    "q8 = df[['Q8a','Q8b','Q8c']]\n",
    "q9 = df[['Q9a','Q9b','Q9c']]\n",
    "q10 = df[['Q10a','Q10b','Q10c']]\n",
    "q11 = df.Q11\n",
    "q12 = df.Q12\n",
    "q13 = df.Q13"
   ]
  },
  {
   "cell_type": "code",
   "execution_count": 16,
   "metadata": {
    "collapsed": false,
    "deletable": true,
    "editable": true
   },
   "outputs": [],
   "source": [
    "q1 = q1.dropna()\n",
    "q2 = q2.dropna()\n",
    "q3 = q3.dropna()\n",
    "q4 = q4.dropna()\n",
    "q5 = q5.dropna()\n",
    "q6 = q6.dropna()\n",
    "q7 = q7.dropna()\n",
    "q8 = q8.dropna()\n",
    "q9 = q9.dropna()\n",
    "q10 = q10.dropna()\n",
    "q11 = q11.dropna()\n",
    "q12 = q12.dropna()\n",
    "q13 = q13.dropna()"
   ]
  },
  {
   "cell_type": "code",
   "execution_count": null,
   "metadata": {
    "collapsed": true,
    "deletable": true,
    "editable": true
   },
   "outputs": [],
   "source": []
  },
  {
   "cell_type": "markdown",
   "metadata": {
    "deletable": true,
    "editable": true
   },
   "source": [
    "### Filtering Q6 "
   ]
  },
  {
   "cell_type": "code",
   "execution_count": 17,
   "metadata": {
    "collapsed": false,
    "deletable": true,
    "editable": true
   },
   "outputs": [
    {
     "data": {
      "text/html": [
       "<div>\n",
       "<style scoped>\n",
       "    .dataframe tbody tr th:only-of-type {\n",
       "        vertical-align: middle;\n",
       "    }\n",
       "\n",
       "    .dataframe tbody tr th {\n",
       "        vertical-align: top;\n",
       "    }\n",
       "\n",
       "    .dataframe thead th {\n",
       "        text-align: right;\n",
       "    }\n",
       "</style>\n",
       "<table border=\"1\" class=\"dataframe\">\n",
       "  <thead>\n",
       "    <tr style=\"text-align: right;\">\n",
       "      <th></th>\n",
       "      <th>Q6a</th>\n",
       "      <th>Q6b</th>\n",
       "      <th>Q6c</th>\n",
       "    </tr>\n",
       "  </thead>\n",
       "  <tbody>\n",
       "    <tr>\n",
       "      <th>1</th>\n",
       "      <td>2018.0</td>\n",
       "      <td>2020.0</td>\n",
       "      <td>2022.0</td>\n",
       "    </tr>\n",
       "    <tr>\n",
       "      <th>3</th>\n",
       "      <td>2025.0</td>\n",
       "      <td>2050.0</td>\n",
       "      <td>2075.0</td>\n",
       "    </tr>\n",
       "    <tr>\n",
       "      <th>4</th>\n",
       "      <td>3.0</td>\n",
       "      <td>6.0</td>\n",
       "      <td>8.0</td>\n",
       "    </tr>\n",
       "    <tr>\n",
       "      <th>5</th>\n",
       "      <td>0.0</td>\n",
       "      <td>3.0</td>\n",
       "      <td>10.0</td>\n",
       "    </tr>\n",
       "    <tr>\n",
       "      <th>6</th>\n",
       "      <td>10.0</td>\n",
       "      <td>20.0</td>\n",
       "      <td>50.0</td>\n",
       "    </tr>\n",
       "  </tbody>\n",
       "</table>\n",
       "</div>"
      ],
      "text/plain": [
       "      Q6a     Q6b     Q6c\n",
       "1  2018.0  2020.0  2022.0\n",
       "3  2025.0  2050.0  2075.0\n",
       "4     3.0     6.0     8.0\n",
       "5     0.0     3.0    10.0\n",
       "6    10.0    20.0    50.0"
      ]
     },
     "execution_count": 17,
     "metadata": {},
     "output_type": "execute_result"
    }
   ],
   "source": [
    "q6 = q6.iloc[1:]\n",
    "q6 = q6.astype(float)\n",
    "q6.head()"
   ]
  },
  {
   "cell_type": "code",
   "execution_count": 18,
   "metadata": {
    "collapsed": false,
    "deletable": true,
    "editable": true
   },
   "outputs": [
    {
     "name": "stderr",
     "output_type": "stream",
     "text": [
      "/usr/local/Cellar/python3/3.6.0/Frameworks/Python.framework/Versions/3.6/lib/python3.6/site-packages/pandas/core/computation/expressions.py:194: UserWarning: evaluating in Python space because the '*' operator is not supported by numexpr for the bool dtype, use '&' instead\n",
      "  op=op_str, alt_op=unsupported[op_str]\n"
     ]
    }
   ],
   "source": [
    "mask = q6.Q6a > 2000\n",
    "mask2 = q6.Q6a < 3000\n",
    "mask = mask*mask2\n",
    "q6.loc[mask, 'Q6a'] = q6.Q6a - 2018\n",
    "q6.loc[mask, 'Q6b'] = q6.Q6b - 2018\n",
    "q6.loc[mask, 'Q6c'] = q6.Q6c - 2018"
   ]
  },
  {
   "cell_type": "code",
   "execution_count": 19,
   "metadata": {
    "collapsed": false,
    "deletable": true,
    "editable": true
   },
   "outputs": [
    {
     "name": "stderr",
     "output_type": "stream",
     "text": [
      "/usr/local/Cellar/python3/3.6.0/Frameworks/Python.framework/Versions/3.6/lib/python3.6/site-packages/pandas/core/computation/expressions.py:194: UserWarning: evaluating in Python space because the '*' operator is not supported by numexpr for the bool dtype, use '&' instead\n",
      "  op=op_str, alt_op=unsupported[op_str]\n"
     ]
    }
   ],
   "source": [
    "q6b = df2[['Q6a','Q6b','Q6c','weight']]\n",
    "q6b = q6b.dropna()\n",
    "q6b = q6b.astype(float)\n",
    "mask = q6b.Q6a > 2000\n",
    "mask2 = q6b.Q6a < 3000\n",
    "mask = mask*mask2\n",
    "q6b.loc[mask, 'Q6a'] = q6b.Q6a - 2018\n",
    "q6b.loc[mask, 'Q6b'] = q6b.Q6b - 2018\n",
    "q6b.loc[mask, 'Q6c'] = q6b.Q6c - 2018"
   ]
  },
  {
   "cell_type": "code",
   "execution_count": 20,
   "metadata": {
    "collapsed": false,
    "deletable": true,
    "editable": true
   },
   "outputs": [
    {
     "name": "stderr",
     "output_type": "stream",
     "text": [
      "/usr/local/Cellar/python3/3.6.0/Frameworks/Python.framework/Versions/3.6/lib/python3.6/site-packages/pandas/core/computation/expressions.py:194: UserWarning: evaluating in Python space because the '*' operator is not supported by numexpr for the bool dtype, use '&' instead\n",
      "  op=op_str, alt_op=unsupported[op_str]\n"
     ]
    }
   ],
   "source": [
    "q6c = df3[['Q6a','Q6b','Q6c','weight']]\n",
    "q6c = q6c.dropna()\n",
    "q6c = q6c.astype(float)\n",
    "mask = q6c.Q6a > 2000\n",
    "mask2 = q6c.Q6a < 3000\n",
    "mask = mask*mask2\n",
    "q6c.loc[mask, 'Q6a'] = q6c.Q6a - 2018\n",
    "q6c.loc[mask, 'Q6b'] = q6c.Q6b - 2018\n",
    "q6c.loc[mask, 'Q6c'] = q6c.Q6c - 2018"
   ]
  },
  {
   "cell_type": "code",
   "execution_count": 21,
   "metadata": {
    "collapsed": false,
    "deletable": true,
    "editable": true
   },
   "outputs": [
    {
     "name": "stderr",
     "output_type": "stream",
     "text": [
      "/usr/local/Cellar/python3/3.6.0/Frameworks/Python.framework/Versions/3.6/lib/python3.6/site-packages/pandas/core/computation/expressions.py:194: UserWarning: evaluating in Python space because the '*' operator is not supported by numexpr for the bool dtype, use '&' instead\n",
      "  op=op_str, alt_op=unsupported[op_str]\n"
     ]
    }
   ],
   "source": [
    "q6d = df[['Q6a','Q6b','Q6c','gender','region','role','expert']]\n",
    "q6d = q6d.iloc[1:]\n",
    "q6d = q6d.dropna()\n",
    "q6d = q6d.astype(float)\n",
    "mask = q6d.Q6a > 2000\n",
    "mask2 = q6d.Q6a < 3000\n",
    "mask = mask*mask2\n",
    "q6d.loc[mask, 'Q6a'] = q6d.Q6a - 2018\n",
    "q6d.loc[mask, 'Q6b'] = q6d.Q6b - 2018\n",
    "q6d.loc[mask, 'Q6c'] = q6d.Q6c - 2018"
   ]
  },
  {
   "cell_type": "code",
   "execution_count": null,
   "metadata": {
    "collapsed": false,
    "deletable": true,
    "editable": true
   },
   "outputs": [],
   "source": []
  },
  {
   "cell_type": "code",
   "execution_count": null,
   "metadata": {
    "collapsed": true,
    "deletable": true,
    "editable": true
   },
   "outputs": [],
   "source": []
  },
  {
   "cell_type": "code",
   "execution_count": null,
   "metadata": {
    "collapsed": true,
    "deletable": true,
    "editable": true
   },
   "outputs": [],
   "source": []
  },
  {
   "cell_type": "markdown",
   "metadata": {
    "collapsed": true,
    "deletable": true,
    "editable": true
   },
   "source": [
    "### Fitting to Gamma CDF "
   ]
  },
  {
   "cell_type": "code",
   "execution_count": 22,
   "metadata": {
    "collapsed": false,
    "deletable": true,
    "editable": true
   },
   "outputs": [],
   "source": [
    "#Manually handle extreme responses\n",
    "extremeResponses = [14,56,100,102,120,134,164,222]"
   ]
  },
  {
   "cell_type": "code",
   "execution_count": 23,
   "metadata": {
    "collapsed": false,
    "deletable": true,
    "editable": true
   },
   "outputs": [],
   "source": [
    "for i in extremeResponses:\n",
    "    q6.loc[i]['Q6a'] = 1000\n",
    "    q6.loc[i]['Q6b'] = 10000\n",
    "    q6.loc[i]['Q6c'] = 100000"
   ]
  },
  {
   "cell_type": "code",
   "execution_count": 24,
   "metadata": {
    "collapsed": false,
    "deletable": true,
    "editable": true
   },
   "outputs": [
    {
     "data": {
      "text/plain": [
       "150"
      ]
     },
     "execution_count": 24,
     "metadata": {},
     "output_type": "execute_result"
    }
   ],
   "source": [
    "q6 = q6[q6.Q6c >= 0.000001]\n",
    "q6 = q6[q6.Q6c-q6.Q6b >= 0.000001]\n",
    "q6 = q6[q6.Q6c-q6.Q6a >= 0.000001]\n",
    "q6 = q6[q6.Q6a <= 5000]\n",
    "q6 = q6[q6.Q6b <= 5000]\n",
    "q6 = q6[q6.Q6c <= 5000]\n",
    "q6.shape[0]"
   ]
  },
  {
   "cell_type": "code",
   "execution_count": 25,
   "metadata": {
    "collapsed": false,
    "deletable": true,
    "editable": true
   },
   "outputs": [
    {
     "data": {
      "text/plain": [
       "150"
      ]
     },
     "execution_count": 25,
     "metadata": {},
     "output_type": "execute_result"
    }
   ],
   "source": [
    "for i in extremeResponses:\n",
    "    q6b.loc[i]['Q6a'] = 1000\n",
    "    q6b.loc[i]['Q6b'] = 10000\n",
    "    q6b.loc[i]['Q6c'] = 100000\n",
    "q6b = q6b[q6b.Q6c >= 0.000001]\n",
    "q6b = q6b[q6b.Q6c-q6b.Q6b >= 0.000001]\n",
    "q6b = q6b[q6b.Q6c-q6b.Q6a >= 0.000001]\n",
    "q6b = q6b[q6b.Q6a <= 5000]\n",
    "q6b = q6b[q6b.Q6b <= 5000]\n",
    "q6b = q6b[q6b.Q6c <= 5000]\n",
    "q6b.shape[0]"
   ]
  },
  {
   "cell_type": "code",
   "execution_count": 26,
   "metadata": {
    "collapsed": false,
    "deletable": true,
    "editable": true
   },
   "outputs": [
    {
     "data": {
      "text/plain": [
       "150"
      ]
     },
     "execution_count": 26,
     "metadata": {},
     "output_type": "execute_result"
    }
   ],
   "source": [
    "for i in extremeResponses:\n",
    "    q6c.loc[i]['Q6a'] = 1000\n",
    "    q6c.loc[i]['Q6b'] = 10000\n",
    "    q6c.loc[i]['Q6c'] = 100000\n",
    "q6c = q6c[q6c.Q6c >= 0.000001]\n",
    "q6c = q6c[q6c.Q6c-q6c.Q6b >= 0.000001]\n",
    "q6c = q6c[q6c.Q6c-q6c.Q6a >= 0.000001]\n",
    "q6c = q6c[q6c.Q6a <= 5000]\n",
    "q6c = q6c[q6c.Q6b <= 5000]\n",
    "q6c = q6c[q6c.Q6c <= 5000]\n",
    "q6c.shape[0]"
   ]
  },
  {
   "cell_type": "code",
   "execution_count": 27,
   "metadata": {
    "collapsed": false,
    "deletable": true,
    "editable": true
   },
   "outputs": [
    {
     "data": {
      "text/plain": [
       "150"
      ]
     },
     "execution_count": 27,
     "metadata": {},
     "output_type": "execute_result"
    }
   ],
   "source": [
    "for i in extremeResponses:\n",
    "    q6d.loc[i]['Q6a'] = 1000\n",
    "    q6d.loc[i]['Q6b'] = 10000\n",
    "    q6d.loc[i]['Q6c'] = 100000\n",
    "q6d = q6d[q6d.Q6c >= 0.000001]\n",
    "q6d = q6d[q6d.Q6c-q6d.Q6b >= 0.000001]\n",
    "q6d = q6d[q6d.Q6c-q6d.Q6a >= 0.000001]\n",
    "q6d = q6d[q6d.Q6a <= 5000]\n",
    "q6d = q6d[q6d.Q6b <= 5000]\n",
    "q6d = q6d[q6d.Q6c <= 5000]\n",
    "q6d.shape[0]"
   ]
  },
  {
   "cell_type": "code",
   "execution_count": null,
   "metadata": {
    "collapsed": true,
    "deletable": true,
    "editable": true
   },
   "outputs": [],
   "source": []
  },
  {
   "cell_type": "code",
   "execution_count": 28,
   "metadata": {
    "collapsed": false,
    "deletable": true,
    "editable": true
   },
   "outputs": [
    {
     "data": {
      "text/plain": [
       "5.0"
      ]
     },
     "execution_count": 28,
     "metadata": {},
     "output_type": "execute_result"
    }
   ],
   "source": [
    "q6d.Q6a.median()"
   ]
  },
  {
   "cell_type": "code",
   "execution_count": 29,
   "metadata": {
    "collapsed": false,
    "deletable": true,
    "editable": true
   },
   "outputs": [
    {
     "data": {
      "text/plain": [
       "10.0"
      ]
     },
     "execution_count": 29,
     "metadata": {},
     "output_type": "execute_result"
    }
   ],
   "source": [
    "q6d.Q6b.median()"
   ]
  },
  {
   "cell_type": "code",
   "execution_count": 30,
   "metadata": {
    "collapsed": false,
    "deletable": true,
    "editable": true
   },
   "outputs": [
    {
     "data": {
      "text/plain": [
       "28.5"
      ]
     },
     "execution_count": 30,
     "metadata": {},
     "output_type": "execute_result"
    }
   ],
   "source": [
    "q6d.Q6c.median()"
   ]
  },
  {
   "cell_type": "code",
   "execution_count": 31,
   "metadata": {
    "collapsed": false,
    "deletable": true,
    "editable": true
   },
   "outputs": [
    {
     "data": {
      "text/plain": [
       "8.566666666666666"
      ]
     },
     "execution_count": 31,
     "metadata": {},
     "output_type": "execute_result"
    }
   ],
   "source": [
    "q6d.Q6a.mean()"
   ]
  },
  {
   "cell_type": "code",
   "execution_count": 32,
   "metadata": {
    "collapsed": false,
    "deletable": true,
    "editable": true
   },
   "outputs": [
    {
     "data": {
      "text/plain": [
       "21.993333333333332"
      ]
     },
     "execution_count": 32,
     "metadata": {},
     "output_type": "execute_result"
    }
   ],
   "source": [
    "q6d.Q6b.mean()"
   ]
  },
  {
   "cell_type": "code",
   "execution_count": 33,
   "metadata": {
    "collapsed": false,
    "deletable": true,
    "editable": true
   },
   "outputs": [
    {
     "data": {
      "text/plain": [
       "75.44"
      ]
     },
     "execution_count": 33,
     "metadata": {},
     "output_type": "execute_result"
    }
   ],
   "source": [
    "q6d.Q6c.mean()"
   ]
  },
  {
   "cell_type": "code",
   "execution_count": null,
   "metadata": {
    "collapsed": true,
    "deletable": true,
    "editable": true
   },
   "outputs": [],
   "source": []
  },
  {
   "cell_type": "code",
   "execution_count": 34,
   "metadata": {
    "collapsed": false,
    "deletable": true,
    "editable": true
   },
   "outputs": [
    {
     "data": {
      "text/plain": [
       "150"
      ]
     },
     "execution_count": 34,
     "metadata": {},
     "output_type": "execute_result"
    }
   ],
   "source": [
    "q6d.shape[0]"
   ]
  },
  {
   "cell_type": "code",
   "execution_count": 35,
   "metadata": {
    "collapsed": false,
    "deletable": true,
    "editable": true
   },
   "outputs": [],
   "source": [
    "xhlai = np.asarray(q6.iloc[0:42])\n",
    "xijcai = np.asarray(q6.iloc[42:])"
   ]
  },
  {
   "cell_type": "code",
   "execution_count": 36,
   "metadata": {
    "collapsed": true,
    "deletable": true,
    "editable": true
   },
   "outputs": [],
   "source": [
    "ydata = [0.1,0.5,0.9]"
   ]
  },
  {
   "cell_type": "code",
   "execution_count": 37,
   "metadata": {
    "collapsed": true,
    "deletable": true,
    "editable": true
   },
   "outputs": [],
   "source": [
    "xdata = np.asarray(q6)"
   ]
  },
  {
   "cell_type": "code",
   "execution_count": 38,
   "metadata": {
    "collapsed": false,
    "deletable": true,
    "editable": true
   },
   "outputs": [
    {
     "name": "stdout",
     "output_type": "stream",
     "text": [
      "(150, 3)\n"
     ]
    }
   ],
   "source": [
    "print(xdata.shape)"
   ]
  },
  {
   "cell_type": "code",
   "execution_count": 39,
   "metadata": {
    "collapsed": true,
    "deletable": true,
    "editable": true
   },
   "outputs": [],
   "source": [
    "def ff(params,xdata,ydata):\n",
    "    return xdata-params[1]*sp.gammaincinv(params[0],ydata)"
   ]
  },
  {
   "cell_type": "code",
   "execution_count": 40,
   "metadata": {
    "collapsed": true,
    "deletable": true,
    "editable": true
   },
   "outputs": [],
   "source": [
    "x0f = np.array([9.,1.])"
   ]
  },
  {
   "cell_type": "code",
   "execution_count": null,
   "metadata": {
    "collapsed": true,
    "deletable": true,
    "editable": true
   },
   "outputs": [],
   "source": []
  },
  {
   "cell_type": "code",
   "execution_count": 41,
   "metadata": {
    "collapsed": false,
    "deletable": true,
    "editable": true
   },
   "outputs": [],
   "source": [
    "paramsf = optimize.least_squares(ff, x0f, args=(xdata[0], ydata),max_nfev=10000,\n",
    "                                tr_solver='exact')\n",
    "datz = np.zeros(xdata.shape[0]*3)\n",
    "datzz = np.zeros(xdata.shape[0]*3)\n",
    "datz[0] = stat.gamma.ppf(.1, paramsf.x[0], 0., paramsf.x[1])\n",
    "datz[1] = stat.gamma.ppf(.5, paramsf.x[0], 0., paramsf.x[1])\n",
    "datz[2] = stat.gamma.ppf(.9, paramsf.x[0], 0., paramsf.x[1])\n",
    "datz[0:3] = xdata[0]\n",
    "for i in range(1,q6.shape[0]):\n",
    "    paramsf = optimize.least_squares(ff, x0f, args=(xdata[i], ydata),max_nfev=1000,\n",
    "                                tr_solver='exact')\n",
    "    datzz[i*3:(i*3+3)] = xdata[i]"
   ]
  },
  {
   "cell_type": "code",
   "execution_count": 42,
   "metadata": {
    "collapsed": false,
    "deletable": true,
    "editable": true
   },
   "outputs": [
    {
     "data": {
      "image/png": "[encoded data removed]",
      "text/plain": [
       "<Figure size 432x288 with 1 Axes>"
      ]
     },
     "metadata": {},
     "output_type": "display_data"
    },
    {
     "name": "stdout",
     "output_type": "stream",
     "text": [
      "3.2492678986524486\n",
      "11.438367230904122\n",
      "28.117174362820386\n"
     ]
    }
   ],
   "source": [
    "m10 = np.median(datzz[::3])\n",
    "m50 = np.median(datzz[1::3])\n",
    "m90 = np.median(datzz[2::3])\n",
    "paramsz = optimize.least_squares(ff, x0f, args=([m10,m50,m90], ydata),max_nfev=10000,\n",
    "                                tr_solver='exact')\n",
    "datzx = stat.gamma.rvs(paramsz.x[0], 0., scale=paramsz.x[1], size=1000)  \n",
    "for i in range(1000):\n",
    "    if datzx[i] > 5000.:\n",
    "        datzx[i] = 5000.\n",
    "datzx.sort()\n",
    "datzx[-1] = 200.\n",
    "datzy = stat.gamma.cdf(datzx,paramsz.x[0], 0., scale=paramsz.x[1])\n",
    "plt.plot(datzx, stat.gamma.cdf(datzx, paramsz.x[0], 0., paramsz.x[1]),'r-', lw=5, alpha=0.6, label='gamma cdf')\n",
    "plt.xlim(0,200)\n",
    "plt.show()\n",
    "print(stat.gamma.ppf(.1, paramsz.x[0], 0., paramsz.x[1]))\n",
    "print(stat.gamma.ppf(.5, paramsz.x[0], 0., paramsz.x[1]))\n",
    "print(stat.gamma.ppf(.9, paramsz.x[0], 0., paramsz.x[1]))"
   ]
  },
  {
   "cell_type": "code",
   "execution_count": 43,
   "metadata": {
    "collapsed": true,
    "deletable": true,
    "editable": true
   },
   "outputs": [],
   "source": [
    "outx = np.zeros((datzx.shape[0]))\n",
    "outy = np.zeros((datzy.shape[0]))\n",
    "outx = pd.DataFrame(datzx)\n",
    "outy = pd.DataFrame(datzy)\n",
    "outy.to_csv('no6y.csv')\n",
    "outx.to_csv('no6x.csv')"
   ]
  },
  {
   "cell_type": "code",
   "execution_count": null,
   "metadata": {
    "collapsed": true,
    "deletable": true,
    "editable": true
   },
   "outputs": [],
   "source": []
  },
  {
   "cell_type": "code",
   "execution_count": null,
   "metadata": {
    "collapsed": true,
    "deletable": true,
    "editable": true
   },
   "outputs": [],
   "source": []
  },
  {
   "cell_type": "code",
   "execution_count": null,
   "metadata": {
    "collapsed": false,
    "deletable": true,
    "editable": true
   },
   "outputs": [],
   "source": []
  },
  {
   "cell_type": "markdown",
   "metadata": {
    "deletable": true,
    "editable": true
   },
   "source": [
    "## BOOTSTRAP"
   ]
  },
  {
   "cell_type": "code",
   "execution_count": 44,
   "metadata": {
    "collapsed": true,
    "deletable": true,
    "editable": true
   },
   "outputs": [],
   "source": [
    "def ff(params,xdata,ydata):\n",
    "    return xdata-params[1]*sp.gammaincinv(params[0],ydata)"
   ]
  },
  {
   "cell_type": "code",
   "execution_count": 45,
   "metadata": {
    "collapsed": true,
    "deletable": true,
    "editable": true
   },
   "outputs": [],
   "source": [
    "def gbootstrap(xdata):\n",
    "    bstrap = np.zeros(xdata.shape)\n",
    "    for i in range(xdata.shape[0]):\n",
    "        randidx = rand.randrange(xdata.shape[0])\n",
    "        dat = xdata[randidx,:]\n",
    "        bstrap[i,:] = dat\n",
    "    return bstrap"
   ]
  },
  {
   "cell_type": "code",
   "execution_count": 46,
   "metadata": {
    "collapsed": true,
    "deletable": true,
    "editable": true
   },
   "outputs": [],
   "source": [
    "def compute_ci(intrp, confidence = 0.95):\n",
    "    avg = np.zeros((intrp.shape[1]),dtype = 'float32')\n",
    "    lb   = np.zeros((intrp.shape[1]),dtype = 'float32')\n",
    "    up   = np.zeros((intrp.shape[1]),dtype = 'float32')\n",
    "    pz = (1.0-confidence)/2.0\n",
    "    for i in range(intrp.shape[1]):\n",
    "        vec = intrp[:,i]\n",
    "        vec.sort()\n",
    "        avg[i] = np.average(vec)\n",
    "        lb[i] = vec[math.floor(pz*len(vec))]\n",
    "        up[i] = vec[math.floor((1.0-pz)*len(vec))]\n",
    "    return avg,lb,up"
   ]
  },
  {
   "cell_type": "code",
   "execution_count": 47,
   "metadata": {
    "collapsed": false,
    "deletable": true,
    "editable": true
   },
   "outputs": [
    {
     "name": "stdout",
     "output_type": "stream",
     "text": [
      "Bootstrap 1000 of 10000.\n",
      "Bootstrap 2000 of 10000.\n",
      "Bootstrap 3000 of 10000.\n",
      "Bootstrap 4000 of 10000.\n",
      "Bootstrap 5000 of 10000.\n",
      "Bootstrap 6000 of 10000.\n",
      "Bootstrap 7000 of 10000.\n",
      "Bootstrap 8000 of 10000.\n",
      "Bootstrap 9000 of 10000.\n",
      "Bootstrap 10000 of 10000.\n"
     ]
    }
   ],
   "source": [
    "bootstrapsx = []\n",
    "bootstrapsy = []\n",
    "nbstraps = 10000\n",
    "nrvars = 150\n",
    "for i in range(nbstraps):\n",
    "    bstrap = gbootstrap(xdata)\n",
    "    iparams = np.array([9.,1.])\n",
    "    m10 = np.median(bstrap[:,0])\n",
    "    m50 = np.median(bstrap[:,1])\n",
    "    m90 = np.median(bstrap[:,2])\n",
    "    paramsf = optimize.least_squares(ff, x0f, args=([m10,m50,m90], ydata),max_nfev=10000,\n",
    "                                    tr_solver='exact')        \n",
    "    datx = stat.gamma.rvs(paramsf.x[0], 0., scale=paramsf.x[1], size=1000)\n",
    "    datx.sort()\n",
    "    daty = stat.gamma.cdf(datx,paramsf.x[0], 0., scale=paramsf.x[1])\n",
    "    bootstrapsx.append(datx)\n",
    "    bootstrapsy.append(daty)\n",
    "    if (i+1)%1000 == 0:\n",
    "        print('Bootstrap '+str(i+1)+ ' of '+str(nbstraps)+'.')    "
   ]
  },
  {
   "cell_type": "code",
   "execution_count": 48,
   "metadata": {
    "collapsed": false,
    "deletable": true,
    "editable": true
   },
   "outputs": [
    {
     "name": "stdout",
     "output_type": "stream",
     "text": [
      "(150, 3)\n",
      "(10000, 1000)\n"
     ]
    }
   ],
   "source": [
    "print(np.array(xdata).shape)\n",
    "print(np.array(bootstrapsy).shape)"
   ]
  },
  {
   "cell_type": "code",
   "execution_count": 49,
   "metadata": {
    "collapsed": false,
    "deletable": true,
    "editable": true
   },
   "outputs": [],
   "source": [
    "intrp_ = np.array([x*(101/100)*2 for x in range(0,100)])\n",
    "intrp = np.zeros((nbstraps,len(intrp_)), dtype = 'float32')\n",
    "for i in range(nbstraps):\n",
    "    intrp[i,:] = np.interp(intrp_, np.array(bootstrapsx[i]), np.array(bootstrapsy[i]))\n",
    "avg, lb, ub = compute_ci(intrp, confidence = 0.95)"
   ]
  },
  {
   "cell_type": "code",
   "execution_count": null,
   "metadata": {
    "collapsed": true,
    "deletable": true,
    "editable": true
   },
   "outputs": [],
   "source": []
  },
  {
   "cell_type": "code",
   "execution_count": 50,
   "metadata": {
    "collapsed": false,
    "deletable": true,
    "editable": true
   },
   "outputs": [
    {
     "data": {
      "text/plain": [
       "<matplotlib.collections.PolyCollection at 0x11f5b3320>"
      ]
     },
     "execution_count": 50,
     "metadata": {},
     "output_type": "execute_result"
    }
   ],
   "source": [
    "ax = plt.gca()\n",
    "clr = 'm'\n",
    "plt.plot(intrp_, avg, color=clr, ls='--', label=\"Average Sensitivity\")\n",
    "plt.plot(intrp_, lb, color=clr, ls=':', label=\"95% Confidence Intervals\",alpha=0.5) # , label = \"lb\")\n",
    "plt.plot(intrp_, ub, color=clr, ls=':',alpha=0.5) # , label = \"ub\")\n",
    "plt.xlim(0,200)\n",
    "ax.fill_between(intrp_, lb, ub, facecolor=clr, alpha=0.05)"
   ]
  },
  {
   "cell_type": "code",
   "execution_count": 51,
   "metadata": {
    "collapsed": false,
    "deletable": true,
    "editable": true
   },
   "outputs": [
    {
     "data": {
      "image/png": "[encoded data removed]",
      "text/plain": [
       "<Figure size 432x288 with 1 Axes>"
      ]
     },
     "metadata": {},
     "output_type": "display_data"
    }
   ],
   "source": [
    "plt.show()"
   ]
  },
  {
   "cell_type": "code",
   "execution_count": 52,
   "metadata": {
    "collapsed": true,
    "deletable": true,
    "editable": true
   },
   "outputs": [],
   "source": [
    "out = np.zeros((intrp_.shape[0],4))\n",
    "for i in range(intrp_.shape[0]):\n",
    "    out[i,0] = intrp_[i]\n",
    "    out[i,1] = avg[i]\n",
    "    out[i,2] = lb[i]\n",
    "    out[i,3] = ub[i]\n",
    "out = pd.DataFrame(out)\n",
    "out.to_csv('no6.csv')"
   ]
  },
  {
   "cell_type": "code",
   "execution_count": null,
   "metadata": {
    "collapsed": true,
    "deletable": true,
    "editable": true
   },
   "outputs": [],
   "source": []
  },
  {
   "cell_type": "code",
   "execution_count": null,
   "metadata": {
    "collapsed": true,
    "deletable": true,
    "editable": true
   },
   "outputs": [],
   "source": []
  },
  {
   "cell_type": "code",
   "execution_count": null,
   "metadata": {
    "collapsed": true,
    "deletable": true,
    "editable": true
   },
   "outputs": [],
   "source": []
  },
  {
   "cell_type": "markdown",
   "metadata": {
    "deletable": true,
    "editable": true
   },
   "source": [
    "# Conference Bootstrap"
   ]
  },
  {
   "cell_type": "code",
   "execution_count": 53,
   "metadata": {
    "collapsed": true,
    "deletable": true,
    "editable": true
   },
   "outputs": [],
   "source": [
    "xhlai = q6c[q6c.index <= 57]\n",
    "xhlai = np.asarray(xhlai[['Q6a','Q6b','Q6c']])\n",
    "xijcai = q6c[q6c.index > 57]\n",
    "xijcai = np.asarray(xijcai[['Q6a','Q6b','Q6c']])"
   ]
  },
  {
   "cell_type": "code",
   "execution_count": 54,
   "metadata": {
    "collapsed": false,
    "deletable": true,
    "editable": true
   },
   "outputs": [
    {
     "name": "stdout",
     "output_type": "stream",
     "text": [
      "Bootstrap 1000 of 10000.\n",
      "Bootstrap 2000 of 10000.\n",
      "Bootstrap 3000 of 10000.\n",
      "Bootstrap 4000 of 10000.\n",
      "Bootstrap 5000 of 10000.\n",
      "Bootstrap 6000 of 10000.\n",
      "Bootstrap 7000 of 10000.\n",
      "Bootstrap 8000 of 10000.\n",
      "Bootstrap 9000 of 10000.\n",
      "Bootstrap 10000 of 10000.\n"
     ]
    }
   ],
   "source": [
    "bootstrapsx = []\n",
    "bootstrapsy = []\n",
    "nbstraps = 10000\n",
    "nrvars = 41\n",
    "for i in range(nbstraps):\n",
    "    bstrap = gbootstrap(xhlai)\n",
    "    iparams = np.array([9.,1.])\n",
    "    m10 = np.median(bstrap[:,0])\n",
    "    m50 = np.median(bstrap[:,1])\n",
    "    m90 = np.median(bstrap[:,2])\n",
    "    paramsf = optimize.least_squares(ff, x0f, args=([m10,m50,m90], ydata),max_nfev=10000,\n",
    "                                    tr_solver='exact')        \n",
    "    datx = stat.gamma.rvs(paramsf.x[0], 0., scale=paramsf.x[1], size=1000)\n",
    "    datx.sort()\n",
    "    daty = stat.gamma.cdf(datx,paramsf.x[0], 0., scale=paramsf.x[1])\n",
    "    bootstrapsx.append(datx)\n",
    "    bootstrapsy.append(daty)\n",
    "    if (i+1)%1000 == 0:\n",
    "        print('Bootstrap '+str(i+1)+ ' of '+str(nbstraps)+'.')"
   ]
  },
  {
   "cell_type": "code",
   "execution_count": 55,
   "metadata": {
    "collapsed": false,
    "deletable": true,
    "editable": true
   },
   "outputs": [
    {
     "data": {
      "image/png": "[encoded data removed]",
      "text/plain": [
       "<Figure size 432x288 with 1 Axes>"
      ]
     },
     "metadata": {},
     "output_type": "display_data"
    }
   ],
   "source": [
    "intrp_ = np.array([x*(201/200) for x in range(0,200)])\n",
    "intrp = np.zeros((nbstraps,len(intrp_)), dtype = 'float32')\n",
    "for i in range(nbstraps):\n",
    "    intrp[i,:] = np.interp(intrp_, np.array(bootstrapsx[i]), np.array(bootstrapsy[i]))\n",
    "avg, lb, ub = compute_ci(intrp, confidence = 0.90)\n",
    "ax = plt.gca()\n",
    "clr = 'green'\n",
    "plt.plot(intrp_, avg, color=clr, ls='--', label=\"Average Sensitivity\")\n",
    "plt.plot(intrp_, lb, color=clr, ls=':', label=\"95% Confidence Intervals\",alpha=0.5) # , label = \"lb\")\n",
    "plt.plot(intrp_, ub, color=clr, ls=':',alpha=0.5) \n",
    "plt.xlim(0,100)\n",
    "ax.fill_between(intrp_, lb, ub, facecolor=clr, alpha=0.15)\n",
    "plt.show()\n",
    "ihlai = copy.deepcopy(intrp_)"
   ]
  },
  {
   "cell_type": "code",
   "execution_count": 56,
   "metadata": {
    "collapsed": false,
    "deletable": true,
    "editable": true
   },
   "outputs": [
    {
     "name": "stdout",
     "output_type": "stream",
     "text": [
      "Bootstrap 1000 of 10000.\n",
      "Bootstrap 2000 of 10000.\n",
      "Bootstrap 3000 of 10000.\n",
      "Bootstrap 4000 of 10000.\n",
      "Bootstrap 5000 of 10000.\n",
      "Bootstrap 6000 of 10000.\n",
      "Bootstrap 7000 of 10000.\n",
      "Bootstrap 8000 of 10000.\n",
      "Bootstrap 9000 of 10000.\n",
      "Bootstrap 10000 of 10000.\n"
     ]
    }
   ],
   "source": [
    "bootstrapsx = []\n",
    "bootstrapsy = []\n",
    "nbstraps = 10000\n",
    "nrvars = 41\n",
    "for i in range(nbstraps):\n",
    "    bstrap = gbootstrap(xijcai)\n",
    "    iparams = np.array([9.,1.])\n",
    "    m10 = np.median(bstrap[:,0])\n",
    "    m50 = np.median(bstrap[:,1])\n",
    "    m90 = np.median(bstrap[:,2])\n",
    "    paramsf = optimize.least_squares(ff, x0f, args=([m10,m50,m90], ydata),max_nfev=10000,\n",
    "                                    tr_solver='exact')        \n",
    "    datx = stat.gamma.rvs(paramsf.x[0], 0., scale=paramsf.x[1], size=1000)\n",
    "    datx.sort()\n",
    "    daty = stat.gamma.cdf(datx,paramsf.x[0], 0., scale=paramsf.x[1])\n",
    "    bootstrapsx.append(datx)\n",
    "    bootstrapsy.append(daty)\n",
    "    if (i+1)%1000 == 0:\n",
    "        print('Bootstrap '+str(i+1)+ ' of '+str(nbstraps)+'.')"
   ]
  },
  {
   "cell_type": "code",
   "execution_count": 57,
   "metadata": {
    "collapsed": false,
    "deletable": true,
    "editable": true
   },
   "outputs": [
    {
     "data": {
      "image/png": "[encoded data removed]",
      "text/plain": [
       "<Figure size 432x288 with 1 Axes>"
      ]
     },
     "metadata": {},
     "output_type": "display_data"
    }
   ],
   "source": [
    "intrp_ = np.array([x*(201/200) for x in range(0,200)])\n",
    "intrp = np.zeros((nbstraps,len(intrp_)), dtype = 'float32')\n",
    "for i in range(nbstraps):\n",
    "    intrp[i,:] = np.interp(intrp_, np.array(bootstrapsx[i]), np.array(bootstrapsy[i]))\n",
    "avg9, lb9, ub9 = compute_ci(intrp, confidence = 0.90)\n",
    "ax = plt.gca()\n",
    "clr = 'green'\n",
    "plt.plot(intrp_, avg9, color=clr, ls='--', label=\"Average Sensitivity\")\n",
    "plt.plot(intrp_, lb9, color=clr, ls=':', label=\"95% Confidence Intervals\",alpha=0.5) # , label = \"lb\")\n",
    "plt.plot(intrp_, ub9, color=clr, ls=':',alpha=0.5) \n",
    "plt.xlim(0,100)\n",
    "ax.fill_between(intrp_, lb9, ub9, facecolor=clr, alpha=0.15)\n",
    "plt.show()\n",
    "iijcai = copy.deepcopy(intrp_)"
   ]
  },
  {
   "cell_type": "code",
   "execution_count": 58,
   "metadata": {
    "collapsed": false,
    "deletable": true,
    "editable": true
   },
   "outputs": [
    {
     "data": {
      "text/plain": [
       "<matplotlib.collections.PolyCollection at 0x117f176d8>"
      ]
     },
     "execution_count": 58,
     "metadata": {},
     "output_type": "execute_result"
    }
   ],
   "source": [
    "plt.clf()\n",
    "ax = plt.gca()\n",
    "clr = 'darkcyan'\n",
    "plt.plot(ihlai, avg, color=clr, ls='--', label=\"50% Narrow HLAI\")\n",
    "plt.plot(ihlai, lb, color=clr, ls=':', label=\"95% Confidence Interval\",alpha=0.5) # , label = \"lb\")\n",
    "plt.plot(ihlai, ub, color=clr, ls=':',alpha=0.75) # , label = \"ub\")\n",
    "ax.fill_between(ihlai, lb, ub, facecolor=clr, alpha=0.25)\n",
    "clr = 'grey'\n",
    "plt.plot(iijcai, avg9, color=clr, ls='--', label=\"50% Narrow IJCAI\")\n",
    "plt.plot(iijcai, lb9, color=clr, ls=':', label=\"95% Confidence Interval\",alpha=0.5) # , label = \"lb\")\n",
    "plt.plot(iijcai, ub9, color=clr, ls=':',alpha=0.65) # , label = \"ub\")\n",
    "ax.fill_between(iijcai, lb9, ub9, facecolor=clr, alpha=0.25)"
   ]
  },
  {
   "cell_type": "code",
   "execution_count": 59,
   "metadata": {
    "collapsed": false,
    "deletable": true,
    "editable": true
   },
   "outputs": [
    {
     "data": {
      "image/png": "[encoded data removed]",
      "text/plain": [
       "<Figure size 432x288 with 1 Axes>"
      ]
     },
     "metadata": {},
     "output_type": "display_data"
    }
   ],
   "source": [
    "plt.xlabel('Years')\n",
    "plt.ylabel('Cumulative Probability')\n",
    "plt.title('HLAI & IJCAI 50% Narrow AI System Forecasts')\n",
    "plt.legend(loc='lower right')\n",
    "plt.grid()\n",
    "plt.xlim(0,100)\n",
    "plt.savefig('Q6-hlai-ijcai-cis.png')\n",
    "plt.show()"
   ]
  },
  {
   "cell_type": "code",
   "execution_count": null,
   "metadata": {
    "collapsed": true,
    "deletable": true,
    "editable": true
   },
   "outputs": [],
   "source": []
  },
  {
   "cell_type": "code",
   "execution_count": 82,
   "metadata": {
    "collapsed": false,
    "deletable": true,
    "editable": true
   },
   "outputs": [
    {
     "data": {
      "text/plain": [
       "5.0"
      ]
     },
     "execution_count": 82,
     "metadata": {},
     "output_type": "execute_result"
    }
   ],
   "source": [
    "np.median(xhlai[:,0])"
   ]
  },
  {
   "cell_type": "code",
   "execution_count": 67,
   "metadata": {
    "collapsed": false,
    "deletable": true,
    "editable": true
   },
   "outputs": [
    {
     "data": {
      "text/plain": [
       "10.0"
      ]
     },
     "execution_count": 67,
     "metadata": {},
     "output_type": "execute_result"
    }
   ],
   "source": [
    "np.median(xhlai[:,1])"
   ]
  },
  {
   "cell_type": "code",
   "execution_count": 81,
   "metadata": {
    "collapsed": false
   },
   "outputs": [
    {
     "data": {
      "text/plain": [
       "20.0"
      ]
     },
     "execution_count": 81,
     "metadata": {},
     "output_type": "execute_result"
    }
   ],
   "source": [
    "np.median(xhlai[:,2])"
   ]
  },
  {
   "cell_type": "code",
   "execution_count": null,
   "metadata": {
    "collapsed": true
   },
   "outputs": [],
   "source": []
  },
  {
   "cell_type": "code",
   "execution_count": 77,
   "metadata": {
    "collapsed": false
   },
   "outputs": [
    {
     "data": {
      "text/plain": [
       "5.0"
      ]
     },
     "execution_count": 77,
     "metadata": {},
     "output_type": "execute_result"
    }
   ],
   "source": [
    "np.median(xijcai[:,0])"
   ]
  },
  {
   "cell_type": "code",
   "execution_count": 69,
   "metadata": {
    "collapsed": false,
    "deletable": true,
    "editable": true
   },
   "outputs": [
    {
     "data": {
      "text/plain": [
       "12.0"
      ]
     },
     "execution_count": 69,
     "metadata": {},
     "output_type": "execute_result"
    }
   ],
   "source": [
    "np.median(xijcai[:,1])"
   ]
  },
  {
   "cell_type": "code",
   "execution_count": 78,
   "metadata": {
    "collapsed": false
   },
   "outputs": [
    {
     "data": {
      "text/plain": [
       "30.0"
      ]
     },
     "execution_count": 78,
     "metadata": {},
     "output_type": "execute_result"
    }
   ],
   "source": [
    "np.median(xijcai[:,2])"
   ]
  },
  {
   "cell_type": "code",
   "execution_count": null,
   "metadata": {
    "collapsed": true
   },
   "outputs": [],
   "source": []
  }
 ],
 "metadata": {
  "kernelspec": {
   "display_name": "Python 3",
   "language": "python",
   "name": "python3"
  },
  "language_info": {
   "codemirror_mode": {
    "name": "ipython",
    "version": 3
   },
   "file_extension": ".py",
   "mimetype": "text/x-python",
   "name": "python",
   "nbconvert_exporter": "python",
   "pygments_lexer": "ipython3",
   "version": "3.6.0"
  }
 },
 "nbformat": 4,
 "nbformat_minor": 2
}

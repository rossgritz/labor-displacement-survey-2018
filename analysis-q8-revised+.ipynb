{
 "cells": [
  {
   "cell_type": "code",
   "execution_count": 2,
   "metadata": {
    "collapsed": true,
    "deletable": true,
    "editable": true
   },
   "outputs": [],
   "source": [
    "import pandas as pd\n",
    "import numpy as np"
   ]
  },
  {
   "cell_type": "code",
   "execution_count": 3,
   "metadata": {
    "collapsed": true,
    "deletable": true,
    "editable": true
   },
   "outputs": [],
   "source": [
    "import scipy.stats as stat\n",
    "import matplotlib.pyplot as plt"
   ]
  },
  {
   "cell_type": "code",
   "execution_count": 4,
   "metadata": {
    "collapsed": true,
    "deletable": true,
    "editable": true
   },
   "outputs": [],
   "source": [
    "import scipy.optimize as optimize\n",
    "import scipy.special as sp"
   ]
  },
  {
   "cell_type": "code",
   "execution_count": 50,
   "metadata": {
    "collapsed": true,
    "deletable": true,
    "editable": true
   },
   "outputs": [],
   "source": [
    "import random as rand\n",
    "import time\n",
    "import math\n",
    "import copy as deepcopy\n",
    "import copy"
   ]
  },
  {
   "cell_type": "code",
   "execution_count": 6,
   "metadata": {
    "collapsed": true,
    "deletable": true,
    "editable": true
   },
   "outputs": [],
   "source": [
    "df = pd.read_csv('../Data_All_180906/CSV/Forecasting AI Progress v1.0.csv')"
   ]
  },
  {
   "cell_type": "code",
   "execution_count": 7,
   "metadata": {
    "collapsed": false,
    "deletable": true,
    "editable": true
   },
   "outputs": [],
   "source": [
    "np.random.seed(12345678)"
   ]
  },
  {
   "cell_type": "code",
   "execution_count": 8,
   "metadata": {
    "collapsed": false,
    "deletable": true,
    "editable": true
   },
   "outputs": [],
   "source": [
    "df = df.iloc[:,9:]"
   ]
  },
  {
   "cell_type": "code",
   "execution_count": 9,
   "metadata": {
    "collapsed": false,
    "deletable": true,
    "editable": true
   },
   "outputs": [],
   "source": [
    "df.columns = ['name','surname','employer','job','Q1',\n",
    "             'Q2','Q3','Q4','Q5a','Q5b','Q5c','Cq5','Q6a','Q6b',\n",
    "             'Q6c','Cq6','Q7a','Q7b','Q7c','Q8a','Q8b','Q8c',\n",
    "             'Cq7-8','Q9a','Q9b','Q9c','Q10a','Q10b','Q10c',\n",
    "             'Cq9-10','Q11','Q12','Q13','Cq11-13']"
   ]
  },
  {
   "cell_type": "code",
   "execution_count": 10,
   "metadata": {
    "collapsed": false,
    "deletable": true,
    "editable": true
   },
   "outputs": [
    {
     "name": "stdout",
     "output_type": "stream",
     "text": [
      "(230,)\n",
      "(230,)\n"
     ]
    }
   ],
   "source": [
    "dfx = pd.read_csv('../Data_All_180906/CSV/altdata.csv',keep_default_na=False)\n",
    "dfx = pd.read_csv('../data_b.csv',keep_default_na=False)\n",
    "df4 = dfx.iloc[:,7:]\n",
    "df4.columns = ['role','demo','name','surname','employer','job','Q1',\\\n",
    "             'Q2','Q3','Q4','Q5a','Q5b','Q5c','Cq5','Q6a','Q6b',\n",
    "             'Q6c','Cq6','Q7a','Q7b','Q7c','Q8a','Q8b','Q8c',\n",
    "             'Cq7-8','Q9a','Q9b','Q9c','Q10a','Q10b','Q10c',\n",
    "             'Cq9-10','Q11','Q12','Q13','Cq11-13','expert']\n",
    "experts = df4.expert\n",
    "demo = df4.demo\n",
    "roles = df4.role\n",
    "demo = np.asarray(demo)\n",
    "roles = np.asarray(roles)\n",
    "print(demo.shape)\n",
    "print(roles.shape)\n",
    "role = np.zeros(demo.shape[0]+1)\n",
    "region = np.zeros(demo.shape[0]+1)\n",
    "gender = np.zeros(demo.shape[0]+1)\n",
    "experts = np.asarray(experts)\n",
    "expert = np.zeros(demo.shape[0]+1)\n",
    "for i in range(0,demo.shape[0]-1):\n",
    "    try:\n",
    "        vals = demo[i+1].split(',')\n",
    "        #print (vals)\n",
    "        if vals[0] == 'EU':\n",
    "            region[i+1] = 0\n",
    "        elif vals[0] == 'A':\n",
    "            region[i+1] = 1\n",
    "        elif vals[0] == 'NA':\n",
    "            region[i+1] = 2\n",
    "        elif vals[0] == 'O':\n",
    "            region[i+1] = 3\n",
    "        elif vals[0] == 'X':\n",
    "            region[i+1] = -1\n",
    "        elif vals[0] == 'SA':\n",
    "            region[i+1] = 3\n",
    "        elif vals[0] == 'AR':\n",
    "            region[i+1] = 3\n",
    "        else:\n",
    "            region[i+1] = -1\n",
    "        try:\n",
    "            if vals[1] == 'f':\n",
    "                gender[i+1] = 0\n",
    "            else:\n",
    "                gender[i+1] = 1\n",
    "        except:\n",
    "            gender[i+1] = 1\n",
    "    except:\n",
    "        region[i+1] = -1\n",
    "        gender[i+1] = -1\n",
    "    if roles[i+1] == 'phd': #grad student\n",
    "        role[i+1] = 0\n",
    "    elif roles[i+1] == 'prof': #academic\n",
    "        role[i+1] = 1\n",
    "    elif roles[i+1] == 'r': #industry research\n",
    "        role[i+1] = 2\n",
    "    elif roles[i+1] == 'eng': #industry engineer\n",
    "        role[i+1] = 3\n",
    "    elif roles[i+1] == 'exec': #industry executive\n",
    "        role[i+1] = 4\n",
    "    elif roles[i+1] == 'f': #founder\n",
    "        role[i+1] = 5\n",
    "    else: role[i+1] = -1   \n",
    "    if experts[i+1] == 'x' or experts[i+1] == 'na':\n",
    "        expert[i+1] = -1\n",
    "    else:\n",
    "        expert[i+1] = 1\n",
    "expert_df = pd.DataFrame(expert)\n",
    "df['expert'] = expert_df\n",
    "region_df = pd.DataFrame(region)\n",
    "gender_df = pd.DataFrame(gender)\n",
    "role_df = pd.DataFrame(role)\n",
    "df['region'] = region_df\n",
    "df['gender'] = gender_df\n",
    "df['role'] = role_df"
   ]
  },
  {
   "cell_type": "code",
   "execution_count": 11,
   "metadata": {
    "collapsed": false,
    "deletable": true,
    "editable": true
   },
   "outputs": [],
   "source": [
    "df = df.dropna(subset=['name','surname','employer','job'])"
   ]
  },
  {
   "cell_type": "markdown",
   "metadata": {},
   "source": [
    "### Naive calibration A "
   ]
  },
  {
   "cell_type": "code",
   "execution_count": 12,
   "metadata": {
    "collapsed": false,
    "deletable": true,
    "editable": true
   },
   "outputs": [
    {
     "name": "stderr",
     "output_type": "stream",
     "text": [
      "/usr/local/Cellar/python3/3.6.0/Frameworks/Python.framework/Versions/3.6/lib/python3.6/site-packages/pandas/core/generic.py:4405: SettingWithCopyWarning: \n",
      "A value is trying to be set on a copy of a slice from a DataFrame.\n",
      "Try using .loc[row_indexer,col_indexer] = value instead\n",
      "\n",
      "See the caveats in the documentation: http://pandas.pydata.org/pandas-docs/stable/indexing.html#indexing-view-versus-copy\n",
      "  self[name] = value\n",
      "/usr/local/Cellar/python3/3.6.0/Frameworks/Python.framework/Versions/3.6/lib/python3.6/site-packages/pandas/core/indexing.py:543: SettingWithCopyWarning: \n",
      "A value is trying to be set on a copy of a slice from a DataFrame.\n",
      "Try using .loc[row_indexer,col_indexer] = value instead\n",
      "\n",
      "See the caveats in the documentation: http://pandas.pydata.org/pandas-docs/stable/indexing.html#indexing-view-versus-copy\n",
      "  self.obj[item] = s\n"
     ]
    }
   ],
   "source": [
    "df['weight'] = 1.\n",
    "df2 = df.iloc[1:]\n",
    "df2.Q1 = pd.to_numeric(df2.Q1)\n",
    "mask = df2.Q1 == 0\n",
    "df2.loc[mask, 'weight'] = df2.weight - 0.25\n",
    "mask = df2.Q1 == 100\n",
    "df2.loc[mask, 'weight'] = df2.weight - 0.25\n",
    "df2.Q2 = pd.to_numeric(df2.Q2)\n",
    "mask = df2.Q2 == 0\n",
    "df2.loc[mask, 'weight'] = df2.weight - 0.25\n",
    "mask = df2.Q2 == 100\n",
    "df2.loc[mask, 'weight'] = df2.weight - 0.25\n",
    "df2.Q3 = pd.to_numeric(df2.Q3)\n",
    "mask = df2.Q3 == 0\n",
    "df2.loc[mask, 'weight'] = df2.weight - 0.25\n",
    "mask = df2.Q3 == 100\n",
    "df2.loc[mask, 'weight'] = df2.weight - 0.25\n",
    "df2.Q4 = pd.to_numeric(df2.Q4)\n",
    "mask = df2.Q4 == 0\n",
    "df2.loc[mask, 'weight'] = df2.weight - 0.25\n",
    "mask = df2.Q4 == 100\n",
    "df2.loc[mask, 'weight'] = df2.weight - 0.25"
   ]
  },
  {
   "cell_type": "markdown",
   "metadata": {},
   "source": [
    "### Naive calibration B "
   ]
  },
  {
   "cell_type": "code",
   "execution_count": 13,
   "metadata": {
    "collapsed": false,
    "deletable": true,
    "editable": true,
    "scrolled": true
   },
   "outputs": [
    {
     "name": "stderr",
     "output_type": "stream",
     "text": [
      "/usr/local/Cellar/python3/3.6.0/Frameworks/Python.framework/Versions/3.6/lib/python3.6/site-packages/pandas/core/generic.py:4405: SettingWithCopyWarning: \n",
      "A value is trying to be set on a copy of a slice from a DataFrame.\n",
      "Try using .loc[row_indexer,col_indexer] = value instead\n",
      "\n",
      "See the caveats in the documentation: http://pandas.pydata.org/pandas-docs/stable/indexing.html#indexing-view-versus-copy\n",
      "  self[name] = value\n",
      "/usr/local/Cellar/python3/3.6.0/Frameworks/Python.framework/Versions/3.6/lib/python3.6/site-packages/pandas/core/indexing.py:543: SettingWithCopyWarning: \n",
      "A value is trying to be set on a copy of a slice from a DataFrame.\n",
      "Try using .loc[row_indexer,col_indexer] = value instead\n",
      "\n",
      "See the caveats in the documentation: http://pandas.pydata.org/pandas-docs/stable/indexing.html#indexing-view-versus-copy\n",
      "  self.obj[item] = s\n"
     ]
    }
   ],
   "source": [
    "df3 = df.iloc[1:]\n",
    "df3.Q1 = pd.to_numeric(df3.Q1)\n",
    "mask = df3.Q1 == 0\n",
    "df3.loc[mask, 'weight'] = 0.\n",
    "mask = df3.Q1 == 100\n",
    "df3.loc[mask, 'weight'] = 0.\n",
    "df3.Q2 = pd.to_numeric(df3.Q2)\n",
    "mask = df3.Q2 == 0\n",
    "df3.loc[mask, 'weight'] = 0.\n",
    "mask = df3.Q2 == 100\n",
    "df3.loc[mask, 'weight'] = 0.\n",
    "df3.Q3 = pd.to_numeric(df3.Q3)\n",
    "mask = df3.Q3 == 0\n",
    "df3.loc[mask, 'weight'] = 0.\n",
    "mask = df3.Q3 == 100\n",
    "df3.loc[mask, 'weight'] = 0.\n",
    "df3.Q4 = pd.to_numeric(df3.Q4)\n",
    "mask = df3.Q4 == 0\n",
    "df3.loc[mask, 'weight'] = 0.\n",
    "mask = df3.Q4 == 100\n",
    "df3.loc[mask, 'weight'] = 0."
   ]
  },
  {
   "cell_type": "code",
   "execution_count": 14,
   "metadata": {
    "collapsed": false,
    "deletable": true,
    "editable": true
   },
   "outputs": [],
   "source": [
    "q1 = df.Q1\n",
    "q2 = df.Q2\n",
    "q3 = df.Q3\n",
    "q4 = df.Q4\n",
    "q5 = df[['Q5a','Q5b','Q5c']]\n",
    "q6 = df[['Q6a','Q6b','Q6c']]\n",
    "q7 = df[['Q7a','Q7b','Q7c']]\n",
    "q8 = df[['Q8a','Q8b','Q8c']]\n",
    "q9 = df[['Q9a','Q9b','Q9c']]\n",
    "q10 = df[['Q10a','Q10b','Q10c']]\n",
    "q11 = df.Q11\n",
    "q12 = df.Q12\n",
    "q13 = df.Q13"
   ]
  },
  {
   "cell_type": "code",
   "execution_count": 15,
   "metadata": {
    "collapsed": true,
    "deletable": true,
    "editable": true
   },
   "outputs": [],
   "source": [
    "q1 = q1.dropna()\n",
    "q2 = q2.dropna()\n",
    "q3 = q3.dropna()\n",
    "q4 = q4.dropna()\n",
    "q5 = q5.dropna()\n",
    "q6 = q6.dropna()\n",
    "q7 = q7.dropna()\n",
    "q8 = q8.dropna()\n",
    "q9 = q9.dropna()\n",
    "q10 = q10.dropna()\n",
    "q11 = q11.dropna()\n",
    "q12 = q12.dropna()\n",
    "q13 = q13.dropna()"
   ]
  },
  {
   "cell_type": "code",
   "execution_count": null,
   "metadata": {
    "collapsed": true,
    "deletable": true,
    "editable": true
   },
   "outputs": [],
   "source": []
  },
  {
   "cell_type": "code",
   "execution_count": 16,
   "metadata": {
    "collapsed": false,
    "deletable": true,
    "editable": true
   },
   "outputs": [
    {
     "data": {
      "text/html": [
       "<div>\n",
       "<style scoped>\n",
       "    .dataframe tbody tr th:only-of-type {\n",
       "        vertical-align: middle;\n",
       "    }\n",
       "\n",
       "    .dataframe tbody tr th {\n",
       "        vertical-align: top;\n",
       "    }\n",
       "\n",
       "    .dataframe thead th {\n",
       "        text-align: right;\n",
       "    }\n",
       "</style>\n",
       "<table border=\"1\" class=\"dataframe\">\n",
       "  <thead>\n",
       "    <tr style=\"text-align: right;\">\n",
       "      <th></th>\n",
       "      <th>Q8a</th>\n",
       "      <th>Q8b</th>\n",
       "      <th>Q8c</th>\n",
       "    </tr>\n",
       "  </thead>\n",
       "  <tbody>\n",
       "    <tr>\n",
       "      <th>1</th>\n",
       "      <td>2024.0</td>\n",
       "      <td>2027.0</td>\n",
       "      <td>2030.0</td>\n",
       "    </tr>\n",
       "    <tr>\n",
       "      <th>3</th>\n",
       "      <td>2040.0</td>\n",
       "      <td>2060.0</td>\n",
       "      <td>2080.0</td>\n",
       "    </tr>\n",
       "    <tr>\n",
       "      <th>4</th>\n",
       "      <td>9.0</td>\n",
       "      <td>13.0</td>\n",
       "      <td>25.0</td>\n",
       "    </tr>\n",
       "    <tr>\n",
       "      <th>5</th>\n",
       "      <td>10.0</td>\n",
       "      <td>18.0</td>\n",
       "      <td>25.0</td>\n",
       "    </tr>\n",
       "    <tr>\n",
       "      <th>6</th>\n",
       "      <td>20.0</td>\n",
       "      <td>32.0</td>\n",
       "      <td>75.0</td>\n",
       "    </tr>\n",
       "  </tbody>\n",
       "</table>\n",
       "</div>"
      ],
      "text/plain": [
       "      Q8a     Q8b     Q8c\n",
       "1  2024.0  2027.0  2030.0\n",
       "3  2040.0  2060.0  2080.0\n",
       "4     9.0    13.0    25.0\n",
       "5    10.0    18.0    25.0\n",
       "6    20.0    32.0    75.0"
      ]
     },
     "execution_count": 16,
     "metadata": {},
     "output_type": "execute_result"
    }
   ],
   "source": [
    "q8 = q8.iloc[1:]\n",
    "q8 = q8.astype(float)\n",
    "q8.head()"
   ]
  },
  {
   "cell_type": "code",
   "execution_count": 17,
   "metadata": {
    "collapsed": false,
    "deletable": true,
    "editable": true
   },
   "outputs": [
    {
     "name": "stderr",
     "output_type": "stream",
     "text": [
      "/usr/local/Cellar/python3/3.6.0/Frameworks/Python.framework/Versions/3.6/lib/python3.6/site-packages/pandas/core/computation/expressions.py:180: UserWarning: evaluating in Python space because the '*' operator is not supported by numexpr for the bool dtype, use '&' instead\n",
      "  .format(op=op_str, alt_op=unsupported[op_str]))\n"
     ]
    }
   ],
   "source": [
    "mask = q8.Q8a > 2000\n",
    "mask2 = q8.Q8a < 3000\n",
    "mask = mask*mask2\n",
    "q8.loc[mask, 'Q8a'] = q8.Q8a - 2018\n",
    "q8.loc[mask, 'Q8b'] = q8.Q8b - 2018\n",
    "q8.loc[mask, 'Q8c'] = q8.Q8c - 2018"
   ]
  },
  {
   "cell_type": "code",
   "execution_count": 18,
   "metadata": {
    "collapsed": false,
    "deletable": true,
    "editable": true
   },
   "outputs": [
    {
     "name": "stderr",
     "output_type": "stream",
     "text": [
      "/usr/local/Cellar/python3/3.6.0/Frameworks/Python.framework/Versions/3.6/lib/python3.6/site-packages/pandas/core/computation/expressions.py:180: UserWarning: evaluating in Python space because the '*' operator is not supported by numexpr for the bool dtype, use '&' instead\n",
      "  .format(op=op_str, alt_op=unsupported[op_str]))\n"
     ]
    }
   ],
   "source": [
    "q8b = df2[['Q8a','Q8b','Q8c','weight']]\n",
    "q8b = q8b.dropna()\n",
    "q8b = q8b.astype(float)\n",
    "mask = q8b.Q8a > 2000\n",
    "mask2 = q8b.Q8a < 3000\n",
    "mask = mask*mask2\n",
    "q8b.loc[mask, 'Q8a'] = q8b.Q8a - 2018\n",
    "q8b.loc[mask, 'Q8b'] = q8b.Q8b - 2018\n",
    "q8b.loc[mask, 'Q8c'] = q8b.Q8c - 2018"
   ]
  },
  {
   "cell_type": "code",
   "execution_count": 19,
   "metadata": {
    "collapsed": false,
    "deletable": true,
    "editable": true
   },
   "outputs": [
    {
     "name": "stderr",
     "output_type": "stream",
     "text": [
      "/usr/local/Cellar/python3/3.6.0/Frameworks/Python.framework/Versions/3.6/lib/python3.6/site-packages/pandas/core/computation/expressions.py:180: UserWarning: evaluating in Python space because the '*' operator is not supported by numexpr for the bool dtype, use '&' instead\n",
      "  .format(op=op_str, alt_op=unsupported[op_str]))\n"
     ]
    }
   ],
   "source": [
    "q8c = df3[['Q8a','Q8b','Q8c','weight']]\n",
    "q8c = q8c.dropna()\n",
    "q8c = q8c.astype(float)\n",
    "mask = q8c.Q8a > 2000\n",
    "mask2 = q8c.Q8a < 3000\n",
    "mask = mask*mask2\n",
    "q8c.loc[mask, 'Q8a'] = q8c.Q8a - 2018\n",
    "q8c.loc[mask, 'Q8b'] = q8c.Q8b - 2018\n",
    "q8c.loc[mask, 'Q8c'] = q8c.Q8c - 2018"
   ]
  },
  {
   "cell_type": "code",
   "execution_count": 20,
   "metadata": {
    "collapsed": false,
    "deletable": true,
    "editable": true
   },
   "outputs": [
    {
     "name": "stderr",
     "output_type": "stream",
     "text": [
      "/usr/local/Cellar/python3/3.6.0/Frameworks/Python.framework/Versions/3.6/lib/python3.6/site-packages/pandas/core/computation/expressions.py:180: UserWarning: evaluating in Python space because the '*' operator is not supported by numexpr for the bool dtype, use '&' instead\n",
      "  .format(op=op_str, alt_op=unsupported[op_str]))\n"
     ]
    }
   ],
   "source": [
    "q8d = df[['Q8a','Q8b','Q8c','gender','region','role']]\n",
    "q8d = q8d.iloc[1:]\n",
    "q8d = q8d.dropna()\n",
    "q8d = q8d.astype(float)\n",
    "mask = q8d.Q8a > 2000\n",
    "mask2 = q8d.Q8a < 3000\n",
    "mask = mask*mask2\n",
    "q8d.loc[mask, 'Q8a'] = q8d.Q8a - 2018\n",
    "q8d.loc[mask, 'Q8b'] = q8d.Q8b - 2018\n",
    "q8d.loc[mask, 'Q8c'] = q8d.Q8c - 2018"
   ]
  },
  {
   "cell_type": "code",
   "execution_count": null,
   "metadata": {
    "collapsed": true,
    "deletable": true,
    "editable": true
   },
   "outputs": [],
   "source": []
  },
  {
   "cell_type": "code",
   "execution_count": null,
   "metadata": {
    "collapsed": true
   },
   "outputs": [],
   "source": []
  },
  {
   "cell_type": "code",
   "execution_count": null,
   "metadata": {
    "collapsed": true,
    "deletable": true,
    "editable": true
   },
   "outputs": [],
   "source": []
  },
  {
   "cell_type": "markdown",
   "metadata": {
    "collapsed": true,
    "deletable": true,
    "editable": true
   },
   "source": [
    "### Fitting to Gamma CDF"
   ]
  },
  {
   "cell_type": "code",
   "execution_count": 21,
   "metadata": {
    "collapsed": false,
    "deletable": true,
    "editable": true
   },
   "outputs": [],
   "source": [
    "#Manually handling extreme responses\n",
    "extremeResponses = [14,56,100,102,120,134,164,222]"
   ]
  },
  {
   "cell_type": "code",
   "execution_count": 22,
   "metadata": {
    "collapsed": false,
    "deletable": true,
    "editable": true
   },
   "outputs": [],
   "source": [
    "for i in extremeResponses:\n",
    "    q8.loc[i]['Q8a'] = 1000\n",
    "    q8.loc[i]['Q8b'] = 10000\n",
    "    q8.loc[i]['Q8c'] = 100000"
   ]
  },
  {
   "cell_type": "code",
   "execution_count": 23,
   "metadata": {
    "collapsed": false,
    "deletable": true,
    "editable": true
   },
   "outputs": [
    {
     "data": {
      "text/plain": [
       "146"
      ]
     },
     "execution_count": 23,
     "metadata": {},
     "output_type": "execute_result"
    }
   ],
   "source": [
    "q8 = q8[q8.Q8c >= 0.000001]\n",
    "q8 = q8[q8.Q8c-q8.Q8b >= 0.000001]\n",
    "q8 = q8[q8.Q8c-q8.Q8a >= 0.000001]\n",
    "q8 = q8[q8.Q8a <= 5000]\n",
    "q8 = q8[q8.Q8b <= 5000]\n",
    "q8 = q8[q8.Q8c <= 5000]\n",
    "q8.shape[0]"
   ]
  },
  {
   "cell_type": "code",
   "execution_count": 24,
   "metadata": {
    "collapsed": false,
    "deletable": true,
    "editable": true
   },
   "outputs": [
    {
     "data": {
      "text/plain": [
       "146"
      ]
     },
     "execution_count": 24,
     "metadata": {},
     "output_type": "execute_result"
    }
   ],
   "source": [
    "for i in extremeResponses:\n",
    "    q8b.loc[i]['Q8a'] = 1000\n",
    "    q8b.loc[i]['Q8b'] = 10000\n",
    "    q8b.loc[i]['Q8c'] = 100000\n",
    "q8b = q8b[q8b.Q8c >= 0.000001]\n",
    "q8b = q8b[q8b.Q8c-q8b.Q8b >= 0.000001]\n",
    "q8b = q8b[q8b.Q8c-q8b.Q8a >= 0.000001]\n",
    "q8b = q8b[q8b.Q8a <= 5000]\n",
    "q8b = q8b[q8b.Q8b <= 5000]\n",
    "q8b = q8b[q8b.Q8c <= 5000]\n",
    "q8b.shape[0]"
   ]
  },
  {
   "cell_type": "code",
   "execution_count": 25,
   "metadata": {
    "collapsed": false,
    "deletable": true,
    "editable": true
   },
   "outputs": [
    {
     "data": {
      "text/plain": [
       "146"
      ]
     },
     "execution_count": 25,
     "metadata": {},
     "output_type": "execute_result"
    }
   ],
   "source": [
    "for i in extremeResponses:\n",
    "    q8c.loc[i]['Q8a'] = 1000\n",
    "    q8c.loc[i]['Q8b'] = 10000\n",
    "    q8c.loc[i]['Q8c'] = 100000\n",
    "q8c = q8c[q8c.Q8c >= 0.000001]\n",
    "q8c = q8c[q8c.Q8c-q8c.Q8b >= 0.000001]\n",
    "q8c = q8c[q8c.Q8c-q8c.Q8a >= 0.000001]\n",
    "q8c = q8c[q8c.Q8a <= 5000]\n",
    "q8c = q8c[q8c.Q8b <= 5000]\n",
    "q8c = q8c[q8c.Q8c <= 5000]\n",
    "q8c.shape[0]"
   ]
  },
  {
   "cell_type": "code",
   "execution_count": 26,
   "metadata": {
    "collapsed": false,
    "deletable": true,
    "editable": true
   },
   "outputs": [
    {
     "data": {
      "text/plain": [
       "146"
      ]
     },
     "execution_count": 26,
     "metadata": {},
     "output_type": "execute_result"
    }
   ],
   "source": [
    "for i in extremeResponses:\n",
    "    q8d.loc[i]['Q8a'] = 1000\n",
    "    q8d.loc[i]['Q8b'] = 10000\n",
    "    q8d.loc[i]['Q8c'] = 100000\n",
    "q8d = q8d[q8d.Q8c >= 0.000001]\n",
    "q8d = q8d[q8d.Q8c-q8d.Q8b >= 0.000001]\n",
    "q8d = q8d[q8d.Q8c-q8d.Q8a >= 0.000001]\n",
    "q8d = q8d[q8d.Q8a <= 5000]\n",
    "q8d = q8d[q8d.Q8b <= 5000]\n",
    "q8d = q8d[q8d.Q8c <= 5000]\n",
    "q8d.shape[0]"
   ]
  },
  {
   "cell_type": "code",
   "execution_count": null,
   "metadata": {
    "collapsed": true,
    "deletable": true,
    "editable": true
   },
   "outputs": [],
   "source": []
  },
  {
   "cell_type": "code",
   "execution_count": 27,
   "metadata": {
    "collapsed": false,
    "deletable": true,
    "editable": true
   },
   "outputs": [
    {
     "data": {
      "text/plain": [
       "15.0"
      ]
     },
     "execution_count": 27,
     "metadata": {},
     "output_type": "execute_result"
    }
   ],
   "source": [
    "q8d.Q8a.median()"
   ]
  },
  {
   "cell_type": "code",
   "execution_count": 28,
   "metadata": {
    "collapsed": false,
    "deletable": true,
    "editable": true
   },
   "outputs": [
    {
     "data": {
      "text/plain": [
       "32.5"
      ]
     },
     "execution_count": 28,
     "metadata": {},
     "output_type": "execute_result"
    }
   ],
   "source": [
    "q8d.Q8b.median()"
   ]
  },
  {
   "cell_type": "code",
   "execution_count": 29,
   "metadata": {
    "collapsed": false,
    "deletable": true,
    "editable": true
   },
   "outputs": [
    {
     "data": {
      "text/plain": [
       "60.0"
      ]
     },
     "execution_count": 29,
     "metadata": {},
     "output_type": "execute_result"
    }
   ],
   "source": [
    "q8d.Q8c.median()"
   ]
  },
  {
   "cell_type": "code",
   "execution_count": 30,
   "metadata": {
    "collapsed": false,
    "deletable": true,
    "editable": true
   },
   "outputs": [
    {
     "data": {
      "text/plain": [
       "27.897260273972602"
      ]
     },
     "execution_count": 30,
     "metadata": {},
     "output_type": "execute_result"
    }
   ],
   "source": [
    "q8d.Q8a.mean()"
   ]
  },
  {
   "cell_type": "code",
   "execution_count": 31,
   "metadata": {
    "collapsed": false,
    "deletable": true,
    "editable": true
   },
   "outputs": [
    {
     "data": {
      "text/plain": [
       "60.57534246575342"
      ]
     },
     "execution_count": 31,
     "metadata": {},
     "output_type": "execute_result"
    }
   ],
   "source": [
    "q8d.Q8b.mean()"
   ]
  },
  {
   "cell_type": "code",
   "execution_count": 32,
   "metadata": {
    "collapsed": false,
    "deletable": true,
    "editable": true
   },
   "outputs": [
    {
     "data": {
      "text/plain": [
       "146.3835616438356"
      ]
     },
     "execution_count": 32,
     "metadata": {},
     "output_type": "execute_result"
    }
   ],
   "source": [
    "q8d.Q8c.mean()"
   ]
  },
  {
   "cell_type": "code",
   "execution_count": null,
   "metadata": {
    "collapsed": true,
    "deletable": true,
    "editable": true
   },
   "outputs": [],
   "source": []
  },
  {
   "cell_type": "code",
   "execution_count": 33,
   "metadata": {
    "collapsed": true,
    "deletable": true,
    "editable": true
   },
   "outputs": [],
   "source": [
    "ydata = [0.1,0.5,0.9]"
   ]
  },
  {
   "cell_type": "code",
   "execution_count": 34,
   "metadata": {
    "collapsed": true,
    "deletable": true,
    "editable": true
   },
   "outputs": [],
   "source": [
    "xdata = np.asarray(q8)"
   ]
  },
  {
   "cell_type": "code",
   "execution_count": 35,
   "metadata": {
    "collapsed": true,
    "deletable": true,
    "editable": true
   },
   "outputs": [],
   "source": [
    "def ff(params,xdata,ydata):\n",
    "    return xdata-params[1]*sp.gammaincinv(params[0],ydata)"
   ]
  },
  {
   "cell_type": "code",
   "execution_count": 36,
   "metadata": {
    "collapsed": true,
    "deletable": true,
    "editable": true
   },
   "outputs": [],
   "source": [
    "x0f = np.array([9.,1.])"
   ]
  },
  {
   "cell_type": "code",
   "execution_count": null,
   "metadata": {
    "collapsed": true,
    "deletable": true,
    "editable": true
   },
   "outputs": [],
   "source": []
  },
  {
   "cell_type": "code",
   "execution_count": 37,
   "metadata": {
    "collapsed": false,
    "deletable": true,
    "editable": true
   },
   "outputs": [],
   "source": [
    "paramsf = optimize.least_squares(ff, x0f, args=(xdata[0], ydata),max_nfev=10000,\n",
    "                                tr_solver='exact')\n",
    "datz = np.zeros(xdata.shape[0]*3)\n",
    "dataxx = stat.gamma.rvs(paramsf.x[0], 0., scale=paramsf.x[1], size=1000)  \n",
    "for i in range(1000):\n",
    "    if dataxx[i] > 5000.:\n",
    "        dataxx[i] = 5000.\n",
    "datz[0] = stat.gamma.ppf(.1, paramsf.x[0], 0., paramsf.x[1])\n",
    "datz[1] = stat.gamma.ppf(.5, paramsf.x[0], 0., paramsf.x[1])\n",
    "datz[2] = stat.gamma.ppf(.9, paramsf.x[0], 0., paramsf.x[1])\n",
    "datayy = stat.gamma.cdf(dataxx,paramsf.x[0], 0., scale=paramsf.x[1])\n",
    "for i in range(1,q8.shape[0]):\n",
    "    paramsf = optimize.least_squares(ff, x0f, args=(xdata[i], ydata),max_nfev=1000,\n",
    "                                tr_solver='exact')\n",
    "    datz[i*3] = stat.gamma.ppf(.1, paramsf.x[0], 0., paramsf.x[1])\n",
    "    datz[i*3+1] = stat.gamma.ppf(.5, paramsf.x[0], 0., paramsf.x[1])\n",
    "    datz[i*3+2] = stat.gamma.ppf(.9, paramsf.x[0], 0., paramsf.x[1])\n",
    "    dataxx = np.concatenate((dataxx,stat.gamma.rvs(paramsf.x[0], 0., scale=paramsf.x[1], size=1000)),axis=0)\n",
    "    datayy = np.concatenate((datayy,stat.gamma.cdf(dataxx[i*1000:],paramsf.x[0], 0., scale=paramsf.x[1])),axis=0)"
   ]
  },
  {
   "cell_type": "code",
   "execution_count": 38,
   "metadata": {
    "collapsed": false,
    "deletable": true,
    "editable": true
   },
   "outputs": [
    {
     "data": {
      "image/png": "[encoded data removed]",
      "text/plain": [
       "<Figure size 432x288 with 1 Axes>"
      ]
     },
     "metadata": {},
     "output_type": "display_data"
    },
    {
     "name": "stdout",
     "output_type": "stream",
     "text": [
      "16.071809152201958\n",
      "33.15813025442105\n",
      "59.54422968437332\n"
     ]
    }
   ],
   "source": [
    "m10 = np.median(datz[::3])\n",
    "m50 = np.median(datz[1::3])\n",
    "m90 = np.median(datz[2::3])\n",
    "paramsz = optimize.least_squares(ff, x0f, args=([m10,m50,m90], ydata),max_nfev=10000,\n",
    "                                tr_solver='exact')\n",
    "datzx = stat.gamma.rvs(paramsz.x[0], 0., scale=paramsz.x[1], size=1000)  \n",
    "for i in range(1000):\n",
    "    if datzx[i] > 5000.:\n",
    "        datzx[i] = 5000.\n",
    "datzx.sort()\n",
    "datzx[-1] = 200.\n",
    "datzy = stat.gamma.cdf(datzx,paramsz.x[0], 0., scale=paramsz.x[1])\n",
    "plt.plot(datzx, stat.gamma.cdf(datzx, paramsz.x[0], 0., paramsz.x[1]),'r-', lw=5, alpha=0.6, label='gamma cdf')\n",
    "plt.xlim(0,200)\n",
    "plt.show()\n",
    "print(stat.gamma.ppf(.1, paramsz.x[0], 0., paramsz.x[1]))\n",
    "print(stat.gamma.ppf(.5, paramsz.x[0], 0., paramsz.x[1]))\n",
    "print(stat.gamma.ppf(.9, paramsz.x[0], 0., paramsz.x[1]))"
   ]
  },
  {
   "cell_type": "code",
   "execution_count": 39,
   "metadata": {
    "collapsed": true,
    "deletable": true,
    "editable": true
   },
   "outputs": [],
   "source": [
    "outx = np.zeros((datzx.shape[0]))\n",
    "outy = np.zeros((datzy.shape[0]))\n",
    "outx = pd.DataFrame(datzx)\n",
    "outy = pd.DataFrame(datzy)\n",
    "outy.to_csv('no8-y.csv')\n",
    "outx.to_csv('no8-x.csv')"
   ]
  },
  {
   "cell_type": "code",
   "execution_count": null,
   "metadata": {
    "collapsed": true,
    "deletable": true,
    "editable": true
   },
   "outputs": [],
   "source": []
  },
  {
   "cell_type": "code",
   "execution_count": null,
   "metadata": {
    "collapsed": true,
    "deletable": true,
    "editable": true
   },
   "outputs": [],
   "source": []
  },
  {
   "cell_type": "code",
   "execution_count": null,
   "metadata": {
    "collapsed": true,
    "deletable": true,
    "editable": true
   },
   "outputs": [],
   "source": []
  },
  {
   "cell_type": "markdown",
   "metadata": {
    "deletable": true,
    "editable": true
   },
   "source": [
    "## Conference Effect"
   ]
  },
  {
   "cell_type": "code",
   "execution_count": 40,
   "metadata": {
    "collapsed": false
   },
   "outputs": [
    {
     "name": "stderr",
     "output_type": "stream",
     "text": [
      "/usr/local/Cellar/python3/3.6.0/Frameworks/Python.framework/Versions/3.6/lib/python3.6/site-packages/ipykernel/__main__.py:2: SettingWithCopyWarning: \n",
      "A value is trying to be set on a copy of a slice from a DataFrame\n",
      "\n",
      "See the caveats in the documentation: http://pandas.pydata.org/pandas-docs/stable/indexing.html#indexing-view-versus-copy\n",
      "  from ipykernel import kernelapp as app\n",
      "/usr/local/Cellar/python3/3.6.0/Frameworks/Python.framework/Versions/3.6/lib/python3.6/site-packages/ipykernel/__main__.py:3: SettingWithCopyWarning: \n",
      "A value is trying to be set on a copy of a slice from a DataFrame\n",
      "\n",
      "See the caveats in the documentation: http://pandas.pydata.org/pandas-docs/stable/indexing.html#indexing-view-versus-copy\n",
      "  app.launch_new_instance()\n"
     ]
    }
   ],
   "source": [
    "q8c['conf'] = q8c.index\n",
    "q8c.conf[q8c.index > 57] = 0\n",
    "q8c.conf[q8c.index <= 57] = 1"
   ]
  },
  {
   "cell_type": "code",
   "execution_count": 41,
   "metadata": {
    "collapsed": true,
    "deletable": true,
    "editable": true
   },
   "outputs": [],
   "source": [
    "xhlai = q8c[q8c.index <= 57]\n",
    "xhlai = np.asarray(xhlai[['Q8a','Q8b','Q8c']])\n",
    "xijcai = q8c[q8c.index > 57]\n",
    "xijcai = np.asarray(xijcai[['Q8a','Q8b','Q8c']])"
   ]
  },
  {
   "cell_type": "code",
   "execution_count": 42,
   "metadata": {
    "collapsed": false
   },
   "outputs": [
    {
     "data": {
      "image/png": "[encoded data removed]",
      "text/plain": [
       "<Figure size 432x288 with 1 Axes>"
      ]
     },
     "metadata": {},
     "output_type": "display_data"
    }
   ],
   "source": [
    "params1 = optimize.least_squares(ff, x0f, args=(xijcai[0], ydata),max_nfev=10000,\n",
    "                                tr_solver='exact')\n",
    "datx1 = stat.gamma.rvs(params1.x[0], 0., scale=params1.x[1], size=1000)  \n",
    "datij = np.zeros(xijcai.shape[0]*3)\n",
    "for i in range(1000):\n",
    "    if datx1[i] > 5000.:\n",
    "        datx1[i] = 5000.\n",
    "datij[0] = stat.gamma.ppf(.1, params1.x[0], 0., params1.x[1])\n",
    "datij[1] = stat.gamma.ppf(.5, params1.x[0], 0., params1.x[1])\n",
    "datij[2] = stat.gamma.ppf(.9, params1.x[0], 0., params1.x[1])\n",
    "daty1 = stat.gamma.cdf(datx1,params1.x[0], 0., scale=params1.x[1])\n",
    "for i in range(1,xijcai.shape[0]):\n",
    "    params1 = optimize.least_squares(ff, x0f, args=(xijcai[i], ydata),max_nfev=10000,\n",
    "                                tr_solver='exact')\n",
    "    datx1 = np.concatenate((datx1,stat.gamma.rvs(params1.x[0], 0., scale=params1.x[1], size=1000)),axis=0)\n",
    "    daty1 = np.concatenate((daty1,stat.gamma.cdf(datx1[i*1000:],params1.x[0], 0., scale=params1.x[1])),axis=0)\n",
    "    datij[i*3] = stat.gamma.ppf(.1, params1.x[0], 0., params1.x[1])\n",
    "    datij[i*3+1] = stat.gamma.ppf(.5, params1.x[0], 0., params1.x[1])\n",
    "    datij[i*3+2] = stat.gamma.ppf(.9, params1.x[0], 0., params1.x[1])\n",
    "\n",
    "paramsxx1 = optimize.least_squares(ff, x0f, args=(datx1[:], daty1[:]),max_nfev=10000,\n",
    "                                tr_solver='exact')\n",
    "datx1.sort()    \n",
    "\n",
    "params2 = optimize.least_squares(ff, x0f, args=(xhlai[0], ydata),max_nfev=10000,\n",
    "                                tr_solver='exact')\n",
    "datx2 = stat.gamma.rvs(params2.x[0], 0., scale=params2.x[1], size=1000)\n",
    "dathl = np.zeros(xhlai.shape[0]*3)\n",
    "for i in range(1000):\n",
    "    if datx2[i] > 5000.:\n",
    "        datx2[i] = 5000.\n",
    "dathl[0] = stat.gamma.ppf(.1, params2.x[0], 0., params2.x[1])\n",
    "dathl[1] = stat.gamma.ppf(.5, params2.x[0], 0., params2.x[1])\n",
    "dathl[2] = stat.gamma.ppf(.9, params2.x[0], 0., params2.x[1])\n",
    "daty2 = stat.gamma.cdf(datx2,params2.x[0], 0., scale=params2.x[1])\n",
    "for i in range(1,xhlai.shape[0]):\n",
    "    params2 = optimize.least_squares(ff, x0f, args=(xhlai[i], ydata),max_nfev=10000,\n",
    "                                    tr_solver='exact')\n",
    "    datx2 = np.concatenate((datx2,stat.gamma.rvs(params2.x[0], 0., scale=params2.x[1], size=1000)),axis=0)\n",
    "    daty2 = np.concatenate((daty2,stat.gamma.cdf(datx2[i*1000:],params2.x[0], 0., scale=params2.x[1])),axis=0)    \n",
    "    dathl[i*3] = stat.gamma.ppf(.1, params2.x[0], 0., params2.x[1])\n",
    "    dathl[i*3+1] = stat.gamma.ppf(.5, params2.x[0], 0., params2.x[1])\n",
    "    dathl[i*3+2] = stat.gamma.ppf(.9, params2.x[0], 0., params2.x[1])\n",
    "paramsxx2 = optimize.least_squares(ff, x0f, args=(datx2[:], daty2[:]),max_nfev=10000,\n",
    "                                tr_solver='exact')    \n",
    "datx2.sort()\n",
    "m10ij = np.median(datij[::3])\n",
    "m50ij = np.median(datij[1::3])\n",
    "m90ij = np.median(datij[2::3])\n",
    "paramsij = optimize.least_squares(ff, x0f, args=([m10ij,m50ij,m90ij], ydata),max_nfev=10000,\n",
    "                                #loss='arctan',\n",
    "                                tr_solver='exact')\n",
    "datij = stat.gamma.rvs(paramsij.x[0], 0., scale=paramsij.x[1], size=1000)  \n",
    "for i in range(1000):\n",
    "    if datij[i] > 5000.:\n",
    "        datij[i] = 5000.\n",
    "datij.sort()\n",
    "datij[-1] = 200.\n",
    "datiy = stat.gamma.cdf(datij,paramsij.x[0], 0., scale=paramsij.x[1])\n",
    "plt.plot(datij, stat.gamma.cdf(datij, paramsij.x[0], 0., paramsij.x[1]),'r-', lw=5, alpha=0.6, label='gamma cdf')\n",
    "plt.xlim(0,200)\n",
    "m10hl = np.median(dathl[::3])\n",
    "m50hl = np.median(dathl[1::3])\n",
    "m90hl = np.median(dathl[2::3])\n",
    "paramshl = optimize.least_squares(ff, x0f, args=([m10hl,m50hl,m90hl], ydata),max_nfev=10000,\n",
    "                                tr_solver='exact')\n",
    "dathl = stat.gamma.rvs(paramshl.x[0], 0., scale=paramshl.x[1], size=1000)  \n",
    "for i in range(1000):\n",
    "    if dathl[i] > 5000.:\n",
    "        dathl[i] = 5000.\n",
    "dathl.sort()\n",
    "dathl[-1] = 200.\n",
    "dathy = stat.gamma.cdf(dathl,paramshl.x[0], 0., scale=paramshl.x[1])\n",
    "plt.plot(dathl, stat.gamma.cdf(dathl, paramshl.x[0], 0., paramshl.x[1]),'r-', lw=5, alpha=0.6, label='gamma cdf')\n",
    "plt.xlim(0,100)\n",
    "plt.show()"
   ]
  },
  {
   "cell_type": "code",
   "execution_count": null,
   "metadata": {
    "collapsed": true,
    "deletable": true,
    "editable": true
   },
   "outputs": [],
   "source": []
  },
  {
   "cell_type": "code",
   "execution_count": null,
   "metadata": {
    "collapsed": true,
    "deletable": true,
    "editable": true
   },
   "outputs": [],
   "source": []
  },
  {
   "cell_type": "code",
   "execution_count": null,
   "metadata": {
    "collapsed": false,
    "deletable": true,
    "editable": true
   },
   "outputs": [],
   "source": []
  },
  {
   "cell_type": "markdown",
   "metadata": {
    "deletable": true,
    "editable": true
   },
   "source": [
    "## BOOTSTRAP"
   ]
  },
  {
   "cell_type": "code",
   "execution_count": 43,
   "metadata": {
    "collapsed": true,
    "deletable": true,
    "editable": true
   },
   "outputs": [],
   "source": [
    "def gbootstrap(xdata):\n",
    "    bstrap = np.zeros(xdata.shape)\n",
    "    for i in range(xdata.shape[0]):\n",
    "        randidx = rand.randrange(xdata.shape[0])\n",
    "        dat = xdata[randidx,:]\n",
    "        bstrap[i,:] = dat\n",
    "    return bstrap"
   ]
  },
  {
   "cell_type": "code",
   "execution_count": 44,
   "metadata": {
    "collapsed": true,
    "deletable": true,
    "editable": true
   },
   "outputs": [],
   "source": [
    "def compute_ci(intrp, confidence = 0.95):\n",
    "    avg = np.zeros((intrp.shape[1]),dtype = 'float32')\n",
    "    lb   = np.zeros((intrp.shape[1]),dtype = 'float32')\n",
    "    up   = np.zeros((intrp.shape[1]),dtype = 'float32')\n",
    "    pz = (1.0-confidence)/2.0\n",
    "    print(intrp.shape)\n",
    "    for i in range(intrp.shape[1]):\n",
    "        vec = intrp[:,i]\n",
    "        vec.sort()\n",
    "        avg[i] = np.average(vec)\n",
    "        lb[i] = vec[math.floor(pz*len(vec))]\n",
    "        up[i] = vec[math.floor((1.0-pz)*len(vec))]\n",
    "    return avg,lb,up"
   ]
  },
  {
   "cell_type": "code",
   "execution_count": 45,
   "metadata": {
    "collapsed": false,
    "deletable": true,
    "editable": true
   },
   "outputs": [
    {
     "name": "stdout",
     "output_type": "stream",
     "text": [
      "Bootstrap 1000 of 10000.\n",
      "Bootstrap 2000 of 10000.\n",
      "Bootstrap 3000 of 10000.\n",
      "Bootstrap 4000 of 10000.\n",
      "Bootstrap 5000 of 10000.\n",
      "Bootstrap 6000 of 10000.\n",
      "Bootstrap 7000 of 10000.\n",
      "Bootstrap 8000 of 10000.\n",
      "Bootstrap 9000 of 10000.\n",
      "Bootstrap 10000 of 10000.\n"
     ]
    }
   ],
   "source": [
    "bootstrapsx = []\n",
    "bootstrapsy = []\n",
    "nbstraps = 10000\n",
    "nrvars = 146\n",
    "for i in range(nbstraps):\n",
    "    bstrap = gbootstrap(xdata)\n",
    "    iparams = np.array([9.,1.])\n",
    "    m10 = np.median(bstrap[:,0])\n",
    "    m50 = np.median(bstrap[:,1])\n",
    "    m90 = np.median(bstrap[:,2])\n",
    "    paramsf = optimize.least_squares(ff, x0f, args=([m10,m50,m90], ydata),max_nfev=10000,\n",
    "                                    tr_solver='exact')        \n",
    "    datx = stat.gamma.rvs(paramsf.x[0], 0., scale=paramsf.x[1], size=1000)\n",
    "    datx.sort()\n",
    "    daty = stat.gamma.cdf(datx,paramsf.x[0], 0., scale=paramsf.x[1])\n",
    "    bootstrapsx.append(datx)\n",
    "    bootstrapsy.append(daty)\n",
    "    if (i+1)%1000 == 0:\n",
    "        print('Bootstrap '+str(i+1)+ ' of '+str(nbstraps)+'.')    "
   ]
  },
  {
   "cell_type": "code",
   "execution_count": 46,
   "metadata": {
    "collapsed": false,
    "deletable": true,
    "editable": true
   },
   "outputs": [
    {
     "name": "stdout",
     "output_type": "stream",
     "text": [
      "(10000, 200)\n"
     ]
    },
    {
     "data": {
      "image/png": "[encoded data removed]",
      "text/plain": [
       "<Figure size 432x288 with 1 Axes>"
      ]
     },
     "metadata": {},
     "output_type": "display_data"
    }
   ],
   "source": [
    "intrp_ = np.array([x*(201/200) for x in range(0,200)])\n",
    "intrp = np.zeros((nbstraps,len(intrp_)), dtype = 'float32')\n",
    "for i in range(nbstraps):\n",
    "    intrp[i,:] = np.interp(intrp_, np.array(bootstrapsx[i]), np.array(bootstrapsy[i]))\n",
    "avg, lb, ub = compute_ci(intrp, confidence = 0.95)\n",
    "ax = plt.gca()\n",
    "clr = 'green'\n",
    "plt.plot(intrp_, avg, color=clr, ls='--', label=\"Average Sensitivity\")\n",
    "plt.plot(intrp_, lb, color=clr, ls=':', label=\"95% Confidence Intervals\") # , label = \"lb\")\n",
    "plt.plot(intrp_, ub, color=clr, ls=':') \n",
    "plt.xlim(0,200)\n",
    "ax.fill_between(intrp_, lb, ub, facecolor=clr, alpha=0.15)\n",
    "plt.show()"
   ]
  },
  {
   "cell_type": "code",
   "execution_count": 47,
   "metadata": {
    "collapsed": false,
    "deletable": true,
    "editable": true
   },
   "outputs": [],
   "source": [
    "out = np.zeros((intrp_.shape[0],4))\n",
    "for i in range(intrp_.shape[0]):\n",
    "    out[i,0] = intrp_[i]\n",
    "    out[i,1] = avg[i]\n",
    "    out[i,2] = lb[i]\n",
    "    out[i,3] = ub[i]\n",
    "out = pd.DataFrame(out)\n",
    "out.to_csv('no8.csv')"
   ]
  },
  {
   "cell_type": "code",
   "execution_count": null,
   "metadata": {
    "collapsed": true
   },
   "outputs": [],
   "source": []
  },
  {
   "cell_type": "code",
   "execution_count": null,
   "metadata": {
    "collapsed": true
   },
   "outputs": [],
   "source": []
  },
  {
   "cell_type": "code",
   "execution_count": null,
   "metadata": {
    "collapsed": true
   },
   "outputs": [],
   "source": []
  },
  {
   "cell_type": "markdown",
   "metadata": {},
   "source": [
    "# Conference Bootstrap"
   ]
  },
  {
   "cell_type": "code",
   "execution_count": 51,
   "metadata": {
    "collapsed": true
   },
   "outputs": [],
   "source": [
    "xhlai = q8c[q8c.index <= 57]\n",
    "xhlai = np.asarray(xhlai[['Q8a','Q8b','Q8c']])\n",
    "xijcai = q8c[q8c.index > 57]\n",
    "xijcai = np.asarray(xijcai[['Q8a','Q8b','Q8c']])"
   ]
  },
  {
   "cell_type": "code",
   "execution_count": 52,
   "metadata": {
    "collapsed": false
   },
   "outputs": [
    {
     "name": "stdout",
     "output_type": "stream",
     "text": [
      "Bootstrap 1000 of 10000.\n",
      "Bootstrap 2000 of 10000.\n",
      "Bootstrap 3000 of 10000.\n",
      "Bootstrap 4000 of 10000.\n",
      "Bootstrap 5000 of 10000.\n",
      "Bootstrap 6000 of 10000.\n",
      "Bootstrap 7000 of 10000.\n",
      "Bootstrap 8000 of 10000.\n",
      "Bootstrap 9000 of 10000.\n",
      "Bootstrap 10000 of 10000.\n"
     ]
    }
   ],
   "source": [
    "bootstrapsx = []\n",
    "bootstrapsy = []\n",
    "nbstraps = 10000\n",
    "nrvars = 41\n",
    "for i in range(nbstraps):\n",
    "    bstrap = gbootstrap(xhlai)\n",
    "    iparams = np.array([9.,1.])\n",
    "    m10 = np.median(bstrap[:,0])\n",
    "    m50 = np.median(bstrap[:,1])\n",
    "    m90 = np.median(bstrap[:,2])\n",
    "    paramsf = optimize.least_squares(ff, x0f, args=([m10,m50,m90], ydata),max_nfev=10000,\n",
    "                                    tr_solver='exact')        \n",
    "    datx = stat.gamma.rvs(paramsf.x[0], 0., scale=paramsf.x[1], size=1000)\n",
    "    datx.sort()\n",
    "    daty = stat.gamma.cdf(datx,paramsf.x[0], 0., scale=paramsf.x[1])\n",
    "    bootstrapsx.append(datx)\n",
    "    bootstrapsy.append(daty)\n",
    "    if (i+1)%1000 == 0:\n",
    "        print('Bootstrap '+str(i+1)+ ' of '+str(nbstraps)+'.')"
   ]
  },
  {
   "cell_type": "code",
   "execution_count": 53,
   "metadata": {
    "collapsed": false
   },
   "outputs": [
    {
     "name": "stdout",
     "output_type": "stream",
     "text": [
      "(10000, 200)\n"
     ]
    },
    {
     "data": {
      "image/png": "[encoded data removed]",
      "text/plain": [
       "<Figure size 432x288 with 1 Axes>"
      ]
     },
     "metadata": {},
     "output_type": "display_data"
    }
   ],
   "source": [
    "intrp_ = np.array([x*(201/200) for x in range(0,200)])\n",
    "intrp = np.zeros((nbstraps,len(intrp_)), dtype = 'float32')\n",
    "for i in range(nbstraps):\n",
    "    intrp[i,:] = np.interp(intrp_, np.array(bootstrapsx[i]), np.array(bootstrapsy[i]))\n",
    "avg, lb, ub = compute_ci(intrp, confidence = 0.90)\n",
    "ax = plt.gca()\n",
    "clr = 'green'\n",
    "plt.plot(intrp_, avg, color=clr, ls='--', label=\"Average Sensitivity\")\n",
    "plt.plot(intrp_, lb, color=clr, ls=':', label=\"95% Confidence Intervals\",alpha=0.5) # , label = \"lb\")\n",
    "plt.plot(intrp_, ub, color=clr, ls=':',alpha=0.5) \n",
    "plt.xlim(0,100)\n",
    "ax.fill_between(intrp_, lb, ub, facecolor=clr, alpha=0.15)\n",
    "plt.show()\n",
    "ihlai = copy.deepcopy(intrp_)"
   ]
  },
  {
   "cell_type": "code",
   "execution_count": 54,
   "metadata": {
    "collapsed": false
   },
   "outputs": [
    {
     "name": "stdout",
     "output_type": "stream",
     "text": [
      "Bootstrap 1000 of 10000.\n",
      "Bootstrap 2000 of 10000.\n",
      "Bootstrap 3000 of 10000.\n",
      "Bootstrap 4000 of 10000.\n",
      "Bootstrap 5000 of 10000.\n",
      "Bootstrap 6000 of 10000.\n",
      "Bootstrap 7000 of 10000.\n",
      "Bootstrap 8000 of 10000.\n",
      "Bootstrap 9000 of 10000.\n",
      "Bootstrap 10000 of 10000.\n"
     ]
    }
   ],
   "source": [
    "bootstrapsx = []\n",
    "bootstrapsy = []\n",
    "nbstraps = 10000\n",
    "nrvars = 41\n",
    "for i in range(nbstraps):\n",
    "    bstrap = gbootstrap(xijcai)\n",
    "    iparams = np.array([9.,1.])\n",
    "    m10 = np.median(bstrap[:,0])\n",
    "    m50 = np.median(bstrap[:,1])\n",
    "    m90 = np.median(bstrap[:,2])\n",
    "    paramsf = optimize.least_squares(ff, x0f, args=([m10,m50,m90], ydata),max_nfev=10000,\n",
    "                                    tr_solver='exact')        \n",
    "    datx = stat.gamma.rvs(paramsf.x[0], 0., scale=paramsf.x[1], size=1000)\n",
    "    datx.sort()\n",
    "    daty = stat.gamma.cdf(datx,paramsf.x[0], 0., scale=paramsf.x[1])\n",
    "    bootstrapsx.append(datx)\n",
    "    bootstrapsy.append(daty)\n",
    "    if (i+1)%1000 == 0:\n",
    "        print('Bootstrap '+str(i+1)+ ' of '+str(nbstraps)+'.')"
   ]
  },
  {
   "cell_type": "code",
   "execution_count": 55,
   "metadata": {
    "collapsed": false
   },
   "outputs": [
    {
     "name": "stdout",
     "output_type": "stream",
     "text": [
      "(10000, 200)\n"
     ]
    },
    {
     "data": {
      "image/png": "[encoded data removed]",
      "text/plain": [
       "<Figure size 432x288 with 1 Axes>"
      ]
     },
     "metadata": {},
     "output_type": "display_data"
    }
   ],
   "source": [
    "intrp_ = np.array([x*(201/200) for x in range(0,200)])\n",
    "intrp = np.zeros((nbstraps,len(intrp_)), dtype = 'float32')\n",
    "for i in range(nbstraps):\n",
    "    intrp[i,:] = np.interp(intrp_, np.array(bootstrapsx[i]), np.array(bootstrapsy[i]))\n",
    "avg9, lb9, ub9 = compute_ci(intrp, confidence = 0.90)\n",
    "ax = plt.gca()\n",
    "clr = 'green'\n",
    "plt.plot(intrp_, avg9, color=clr, ls='--', label=\"Average Sensitivity\")\n",
    "plt.plot(intrp_, lb9, color=clr, ls=':', label=\"95% Confidence Intervals\",alpha=0.5) # , label = \"lb\")\n",
    "plt.plot(intrp_, ub9, color=clr, ls=':',alpha=0.5) \n",
    "plt.xlim(0,100)\n",
    "ax.fill_between(intrp_, lb9, ub9, facecolor=clr, alpha=0.15)\n",
    "plt.show()\n",
    "iijcai = copy.deepcopy(intrp_)"
   ]
  },
  {
   "cell_type": "code",
   "execution_count": 58,
   "metadata": {
    "collapsed": false
   },
   "outputs": [
    {
     "data": {
      "text/plain": [
       "<matplotlib.collections.PolyCollection at 0x11edcbd30>"
      ]
     },
     "execution_count": 58,
     "metadata": {},
     "output_type": "execute_result"
    }
   ],
   "source": [
    "plt.clf()\n",
    "ax = plt.gca()\n",
    "clr = 'darkcyan'\n",
    "plt.plot(ihlai, avg, color=clr, ls='--', label=\"90% Broad HLAI\")\n",
    "plt.plot(ihlai, lb, color=clr, ls=':', label=\"95% Confidence Interval\",alpha=0.5) # , label = \"lb\")\n",
    "plt.plot(ihlai, ub, color=clr, ls=':',alpha=0.75) # , label = \"ub\")\n",
    "ax.fill_between(ihlai, lb, ub, facecolor=clr, alpha=0.25)\n",
    "clr = 'grey'\n",
    "plt.plot(iijcai, avg9, color=clr, ls='--', label=\"90% Broad IJCAI\")\n",
    "plt.plot(iijcai, lb9, color=clr, ls=':', label=\"95% Confidence Interval\",alpha=0.5) # , label = \"lb\")\n",
    "plt.plot(iijcai, ub9, color=clr, ls=':',alpha=0.65) # , label = \"ub\")\n",
    "ax.fill_between(iijcai, lb9, ub9, facecolor=clr, alpha=0.25)"
   ]
  },
  {
   "cell_type": "code",
   "execution_count": 59,
   "metadata": {
    "collapsed": false
   },
   "outputs": [
    {
     "data": {
      "image/png": "[encoded data removed]",
      "text/plain": [
       "<Figure size 432x288 with 1 Axes>"
      ]
     },
     "metadata": {},
     "output_type": "display_data"
    }
   ],
   "source": [
    "plt.xlabel('Years')\n",
    "plt.ylabel('Cumulative Probability')\n",
    "plt.title('HLAI & IJCAI 90% Broad AI System Forecasts')\n",
    "plt.legend(loc='lower right')\n",
    "plt.grid()\n",
    "plt.xlim(0,100)\n",
    "plt.savefig('Q8-hlai-ijcai-cis.png')\n",
    "plt.show()"
   ]
  },
  {
   "cell_type": "code",
   "execution_count": null,
   "metadata": {
    "collapsed": true
   },
   "outputs": [],
   "source": []
  },
  {
   "cell_type": "code",
   "execution_count": null,
   "metadata": {
    "collapsed": true
   },
   "outputs": [],
   "source": []
  },
  {
   "cell_type": "code",
   "execution_count": null,
   "metadata": {
    "collapsed": true
   },
   "outputs": [],
   "source": []
  }
 ],
 "metadata": {
  "kernelspec": {
   "display_name": "Python 3",
   "language": "python",
   "name": "python3"
  },
  "language_info": {
   "codemirror_mode": {
    "name": "ipython",
    "version": 3
   },
   "file_extension": ".py",
   "mimetype": "text/x-python",
   "name": "python",
   "nbconvert_exporter": "python",
   "pygments_lexer": "ipython3",
   "version": "3.6.0"
  }
 },
 "nbformat": 4,
 "nbformat_minor": 2
}
